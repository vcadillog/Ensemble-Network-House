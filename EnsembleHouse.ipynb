{
  "nbformat": 4,
  "nbformat_minor": 0,
  "metadata": {
    "colab": {
      "provenance": []
    },
    "kernelspec": {
      "name": "python3",
      "display_name": "Python 3"
    },
    "language_info": {
      "name": "python"
    },
    "accelerator": "GPU",
    "gpuClass": "standard",
    "widgets": {
      "application/vnd.jupyter.widget-state+json": {
        "3ac1e226c9db426db32b2abb3c7ca9cc": {
          "model_module": "@jupyter-widgets/controls",
          "model_name": "VBoxModel",
          "model_module_version": "1.5.0",
          "state": {
            "_dom_classes": [],
            "_model_module": "@jupyter-widgets/controls",
            "_model_module_version": "1.5.0",
            "_model_name": "VBoxModel",
            "_view_count": null,
            "_view_module": "@jupyter-widgets/controls",
            "_view_module_version": "1.5.0",
            "_view_name": "VBoxView",
            "box_style": "",
            "children": [
              "IPY_MODEL_2c4edee31c404a85bd5092d5151bebf3",
              "IPY_MODEL_2dbca39cd2ea404da8ca9c131812ac6b"
            ],
            "layout": "IPY_MODEL_be677c827bb449a99371838b0d6341bd"
          }
        },
        "2c4edee31c404a85bd5092d5151bebf3": {
          "model_module": "@jupyter-widgets/controls",
          "model_name": "LabelModel",
          "model_module_version": "1.5.0",
          "state": {
            "_dom_classes": [],
            "_model_module": "@jupyter-widgets/controls",
            "_model_module_version": "1.5.0",
            "_model_name": "LabelModel",
            "_view_count": null,
            "_view_module": "@jupyter-widgets/controls",
            "_view_module_version": "1.5.0",
            "_view_name": "LabelView",
            "description": "",
            "description_tooltip": null,
            "layout": "IPY_MODEL_86382da96866402db991fda5ac929f82",
            "placeholder": "​",
            "style": "IPY_MODEL_c0109a0bf86a4863bf6cb0be14d007b2",
            "value": "0.014 MB of 0.014 MB uploaded (0.000 MB deduped)\r"
          }
        },
        "2dbca39cd2ea404da8ca9c131812ac6b": {
          "model_module": "@jupyter-widgets/controls",
          "model_name": "FloatProgressModel",
          "model_module_version": "1.5.0",
          "state": {
            "_dom_classes": [],
            "_model_module": "@jupyter-widgets/controls",
            "_model_module_version": "1.5.0",
            "_model_name": "FloatProgressModel",
            "_view_count": null,
            "_view_module": "@jupyter-widgets/controls",
            "_view_module_version": "1.5.0",
            "_view_name": "ProgressView",
            "bar_style": "",
            "description": "",
            "description_tooltip": null,
            "layout": "IPY_MODEL_eedc0a6b37ca46c4b3398389a4525d48",
            "max": 1,
            "min": 0,
            "orientation": "horizontal",
            "style": "IPY_MODEL_0e455c30230a493fb4ff0ef0bbbcb284",
            "value": 1
          }
        },
        "be677c827bb449a99371838b0d6341bd": {
          "model_module": "@jupyter-widgets/base",
          "model_name": "LayoutModel",
          "model_module_version": "1.2.0",
          "state": {
            "_model_module": "@jupyter-widgets/base",
            "_model_module_version": "1.2.0",
            "_model_name": "LayoutModel",
            "_view_count": null,
            "_view_module": "@jupyter-widgets/base",
            "_view_module_version": "1.2.0",
            "_view_name": "LayoutView",
            "align_content": null,
            "align_items": null,
            "align_self": null,
            "border": null,
            "bottom": null,
            "display": null,
            "flex": null,
            "flex_flow": null,
            "grid_area": null,
            "grid_auto_columns": null,
            "grid_auto_flow": null,
            "grid_auto_rows": null,
            "grid_column": null,
            "grid_gap": null,
            "grid_row": null,
            "grid_template_areas": null,
            "grid_template_columns": null,
            "grid_template_rows": null,
            "height": null,
            "justify_content": null,
            "justify_items": null,
            "left": null,
            "margin": null,
            "max_height": null,
            "max_width": null,
            "min_height": null,
            "min_width": null,
            "object_fit": null,
            "object_position": null,
            "order": null,
            "overflow": null,
            "overflow_x": null,
            "overflow_y": null,
            "padding": null,
            "right": null,
            "top": null,
            "visibility": null,
            "width": null
          }
        },
        "86382da96866402db991fda5ac929f82": {
          "model_module": "@jupyter-widgets/base",
          "model_name": "LayoutModel",
          "model_module_version": "1.2.0",
          "state": {
            "_model_module": "@jupyter-widgets/base",
            "_model_module_version": "1.2.0",
            "_model_name": "LayoutModel",
            "_view_count": null,
            "_view_module": "@jupyter-widgets/base",
            "_view_module_version": "1.2.0",
            "_view_name": "LayoutView",
            "align_content": null,
            "align_items": null,
            "align_self": null,
            "border": null,
            "bottom": null,
            "display": null,
            "flex": null,
            "flex_flow": null,
            "grid_area": null,
            "grid_auto_columns": null,
            "grid_auto_flow": null,
            "grid_auto_rows": null,
            "grid_column": null,
            "grid_gap": null,
            "grid_row": null,
            "grid_template_areas": null,
            "grid_template_columns": null,
            "grid_template_rows": null,
            "height": null,
            "justify_content": null,
            "justify_items": null,
            "left": null,
            "margin": null,
            "max_height": null,
            "max_width": null,
            "min_height": null,
            "min_width": null,
            "object_fit": null,
            "object_position": null,
            "order": null,
            "overflow": null,
            "overflow_x": null,
            "overflow_y": null,
            "padding": null,
            "right": null,
            "top": null,
            "visibility": null,
            "width": null
          }
        },
        "c0109a0bf86a4863bf6cb0be14d007b2": {
          "model_module": "@jupyter-widgets/controls",
          "model_name": "DescriptionStyleModel",
          "model_module_version": "1.5.0",
          "state": {
            "_model_module": "@jupyter-widgets/controls",
            "_model_module_version": "1.5.0",
            "_model_name": "DescriptionStyleModel",
            "_view_count": null,
            "_view_module": "@jupyter-widgets/base",
            "_view_module_version": "1.2.0",
            "_view_name": "StyleView",
            "description_width": ""
          }
        },
        "eedc0a6b37ca46c4b3398389a4525d48": {
          "model_module": "@jupyter-widgets/base",
          "model_name": "LayoutModel",
          "model_module_version": "1.2.0",
          "state": {
            "_model_module": "@jupyter-widgets/base",
            "_model_module_version": "1.2.0",
            "_model_name": "LayoutModel",
            "_view_count": null,
            "_view_module": "@jupyter-widgets/base",
            "_view_module_version": "1.2.0",
            "_view_name": "LayoutView",
            "align_content": null,
            "align_items": null,
            "align_self": null,
            "border": null,
            "bottom": null,
            "display": null,
            "flex": null,
            "flex_flow": null,
            "grid_area": null,
            "grid_auto_columns": null,
            "grid_auto_flow": null,
            "grid_auto_rows": null,
            "grid_column": null,
            "grid_gap": null,
            "grid_row": null,
            "grid_template_areas": null,
            "grid_template_columns": null,
            "grid_template_rows": null,
            "height": null,
            "justify_content": null,
            "justify_items": null,
            "left": null,
            "margin": null,
            "max_height": null,
            "max_width": null,
            "min_height": null,
            "min_width": null,
            "object_fit": null,
            "object_position": null,
            "order": null,
            "overflow": null,
            "overflow_x": null,
            "overflow_y": null,
            "padding": null,
            "right": null,
            "top": null,
            "visibility": null,
            "width": null
          }
        },
        "0e455c30230a493fb4ff0ef0bbbcb284": {
          "model_module": "@jupyter-widgets/controls",
          "model_name": "ProgressStyleModel",
          "model_module_version": "1.5.0",
          "state": {
            "_model_module": "@jupyter-widgets/controls",
            "_model_module_version": "1.5.0",
            "_model_name": "ProgressStyleModel",
            "_view_count": null,
            "_view_module": "@jupyter-widgets/base",
            "_view_module_version": "1.2.0",
            "_view_name": "StyleView",
            "bar_color": null,
            "description_width": ""
          }
        },
        "77c95209a34a4a60908f241616d6072b": {
          "model_module": "@jupyter-widgets/controls",
          "model_name": "HBoxModel",
          "model_module_version": "1.5.0",
          "state": {
            "_dom_classes": [],
            "_model_module": "@jupyter-widgets/controls",
            "_model_module_version": "1.5.0",
            "_model_name": "HBoxModel",
            "_view_count": null,
            "_view_module": "@jupyter-widgets/controls",
            "_view_module_version": "1.5.0",
            "_view_name": "HBoxView",
            "box_style": "",
            "children": [
              "IPY_MODEL_496c7db3f3c0430a934b987247503a59",
              "IPY_MODEL_73429b9f1c3f41818ed0da3cc713314f",
              "IPY_MODEL_5aac720b16d143d090b0b9eed3c7d954"
            ],
            "layout": "IPY_MODEL_ab0575b899ac4e039cd2072cc353bee9"
          }
        },
        "496c7db3f3c0430a934b987247503a59": {
          "model_module": "@jupyter-widgets/controls",
          "model_name": "HTMLModel",
          "model_module_version": "1.5.0",
          "state": {
            "_dom_classes": [],
            "_model_module": "@jupyter-widgets/controls",
            "_model_module_version": "1.5.0",
            "_model_name": "HTMLModel",
            "_view_count": null,
            "_view_module": "@jupyter-widgets/controls",
            "_view_module_version": "1.5.0",
            "_view_name": "HTMLView",
            "description": "",
            "description_tooltip": null,
            "layout": "IPY_MODEL_c3c7439042a74733a6c55f82632b1fc8",
            "placeholder": "​",
            "style": "IPY_MODEL_21bce5f89285483ebe9cc854c0010fbe",
            "value": "100%"
          }
        },
        "73429b9f1c3f41818ed0da3cc713314f": {
          "model_module": "@jupyter-widgets/controls",
          "model_name": "FloatProgressModel",
          "model_module_version": "1.5.0",
          "state": {
            "_dom_classes": [],
            "_model_module": "@jupyter-widgets/controls",
            "_model_module_version": "1.5.0",
            "_model_name": "FloatProgressModel",
            "_view_count": null,
            "_view_module": "@jupyter-widgets/controls",
            "_view_module_version": "1.5.0",
            "_view_name": "ProgressView",
            "bar_style": "success",
            "description": "",
            "description_tooltip": null,
            "layout": "IPY_MODEL_a6aa42a37f3d42a38b5c5c88b185bdfc",
            "max": 86721253,
            "min": 0,
            "orientation": "horizontal",
            "style": "IPY_MODEL_9e2c8ff6f7e342e496fe6bf5f74df23c",
            "value": 86721253
          }
        },
        "5aac720b16d143d090b0b9eed3c7d954": {
          "model_module": "@jupyter-widgets/controls",
          "model_name": "HTMLModel",
          "model_module_version": "1.5.0",
          "state": {
            "_dom_classes": [],
            "_model_module": "@jupyter-widgets/controls",
            "_model_module_version": "1.5.0",
            "_model_name": "HTMLModel",
            "_view_count": null,
            "_view_module": "@jupyter-widgets/controls",
            "_view_module_version": "1.5.0",
            "_view_name": "HTMLView",
            "description": "",
            "description_tooltip": null,
            "layout": "IPY_MODEL_b4bc88f8ac1d434f93600cb77349231a",
            "placeholder": "​",
            "style": "IPY_MODEL_bffe6e1c468a4ebcb378577a3fab382f",
            "value": " 82.7M/82.7M [00:01&lt;00:00, 53.9MB/s]"
          }
        },
        "ab0575b899ac4e039cd2072cc353bee9": {
          "model_module": "@jupyter-widgets/base",
          "model_name": "LayoutModel",
          "model_module_version": "1.2.0",
          "state": {
            "_model_module": "@jupyter-widgets/base",
            "_model_module_version": "1.2.0",
            "_model_name": "LayoutModel",
            "_view_count": null,
            "_view_module": "@jupyter-widgets/base",
            "_view_module_version": "1.2.0",
            "_view_name": "LayoutView",
            "align_content": null,
            "align_items": null,
            "align_self": null,
            "border": null,
            "bottom": null,
            "display": null,
            "flex": null,
            "flex_flow": null,
            "grid_area": null,
            "grid_auto_columns": null,
            "grid_auto_flow": null,
            "grid_auto_rows": null,
            "grid_column": null,
            "grid_gap": null,
            "grid_row": null,
            "grid_template_areas": null,
            "grid_template_columns": null,
            "grid_template_rows": null,
            "height": null,
            "justify_content": null,
            "justify_items": null,
            "left": null,
            "margin": null,
            "max_height": null,
            "max_width": null,
            "min_height": null,
            "min_width": null,
            "object_fit": null,
            "object_position": null,
            "order": null,
            "overflow": null,
            "overflow_x": null,
            "overflow_y": null,
            "padding": null,
            "right": null,
            "top": null,
            "visibility": null,
            "width": null
          }
        },
        "c3c7439042a74733a6c55f82632b1fc8": {
          "model_module": "@jupyter-widgets/base",
          "model_name": "LayoutModel",
          "model_module_version": "1.2.0",
          "state": {
            "_model_module": "@jupyter-widgets/base",
            "_model_module_version": "1.2.0",
            "_model_name": "LayoutModel",
            "_view_count": null,
            "_view_module": "@jupyter-widgets/base",
            "_view_module_version": "1.2.0",
            "_view_name": "LayoutView",
            "align_content": null,
            "align_items": null,
            "align_self": null,
            "border": null,
            "bottom": null,
            "display": null,
            "flex": null,
            "flex_flow": null,
            "grid_area": null,
            "grid_auto_columns": null,
            "grid_auto_flow": null,
            "grid_auto_rows": null,
            "grid_column": null,
            "grid_gap": null,
            "grid_row": null,
            "grid_template_areas": null,
            "grid_template_columns": null,
            "grid_template_rows": null,
            "height": null,
            "justify_content": null,
            "justify_items": null,
            "left": null,
            "margin": null,
            "max_height": null,
            "max_width": null,
            "min_height": null,
            "min_width": null,
            "object_fit": null,
            "object_position": null,
            "order": null,
            "overflow": null,
            "overflow_x": null,
            "overflow_y": null,
            "padding": null,
            "right": null,
            "top": null,
            "visibility": null,
            "width": null
          }
        },
        "21bce5f89285483ebe9cc854c0010fbe": {
          "model_module": "@jupyter-widgets/controls",
          "model_name": "DescriptionStyleModel",
          "model_module_version": "1.5.0",
          "state": {
            "_model_module": "@jupyter-widgets/controls",
            "_model_module_version": "1.5.0",
            "_model_name": "DescriptionStyleModel",
            "_view_count": null,
            "_view_module": "@jupyter-widgets/base",
            "_view_module_version": "1.2.0",
            "_view_name": "StyleView",
            "description_width": ""
          }
        },
        "a6aa42a37f3d42a38b5c5c88b185bdfc": {
          "model_module": "@jupyter-widgets/base",
          "model_name": "LayoutModel",
          "model_module_version": "1.2.0",
          "state": {
            "_model_module": "@jupyter-widgets/base",
            "_model_module_version": "1.2.0",
            "_model_name": "LayoutModel",
            "_view_count": null,
            "_view_module": "@jupyter-widgets/base",
            "_view_module_version": "1.2.0",
            "_view_name": "LayoutView",
            "align_content": null,
            "align_items": null,
            "align_self": null,
            "border": null,
            "bottom": null,
            "display": null,
            "flex": null,
            "flex_flow": null,
            "grid_area": null,
            "grid_auto_columns": null,
            "grid_auto_flow": null,
            "grid_auto_rows": null,
            "grid_column": null,
            "grid_gap": null,
            "grid_row": null,
            "grid_template_areas": null,
            "grid_template_columns": null,
            "grid_template_rows": null,
            "height": null,
            "justify_content": null,
            "justify_items": null,
            "left": null,
            "margin": null,
            "max_height": null,
            "max_width": null,
            "min_height": null,
            "min_width": null,
            "object_fit": null,
            "object_position": null,
            "order": null,
            "overflow": null,
            "overflow_x": null,
            "overflow_y": null,
            "padding": null,
            "right": null,
            "top": null,
            "visibility": null,
            "width": null
          }
        },
        "9e2c8ff6f7e342e496fe6bf5f74df23c": {
          "model_module": "@jupyter-widgets/controls",
          "model_name": "ProgressStyleModel",
          "model_module_version": "1.5.0",
          "state": {
            "_model_module": "@jupyter-widgets/controls",
            "_model_module_version": "1.5.0",
            "_model_name": "ProgressStyleModel",
            "_view_count": null,
            "_view_module": "@jupyter-widgets/base",
            "_view_module_version": "1.2.0",
            "_view_name": "StyleView",
            "bar_color": null,
            "description_width": ""
          }
        },
        "b4bc88f8ac1d434f93600cb77349231a": {
          "model_module": "@jupyter-widgets/base",
          "model_name": "LayoutModel",
          "model_module_version": "1.2.0",
          "state": {
            "_model_module": "@jupyter-widgets/base",
            "_model_module_version": "1.2.0",
            "_model_name": "LayoutModel",
            "_view_count": null,
            "_view_module": "@jupyter-widgets/base",
            "_view_module_version": "1.2.0",
            "_view_name": "LayoutView",
            "align_content": null,
            "align_items": null,
            "align_self": null,
            "border": null,
            "bottom": null,
            "display": null,
            "flex": null,
            "flex_flow": null,
            "grid_area": null,
            "grid_auto_columns": null,
            "grid_auto_flow": null,
            "grid_auto_rows": null,
            "grid_column": null,
            "grid_gap": null,
            "grid_row": null,
            "grid_template_areas": null,
            "grid_template_columns": null,
            "grid_template_rows": null,
            "height": null,
            "justify_content": null,
            "justify_items": null,
            "left": null,
            "margin": null,
            "max_height": null,
            "max_width": null,
            "min_height": null,
            "min_width": null,
            "object_fit": null,
            "object_position": null,
            "order": null,
            "overflow": null,
            "overflow_x": null,
            "overflow_y": null,
            "padding": null,
            "right": null,
            "top": null,
            "visibility": null,
            "width": null
          }
        },
        "bffe6e1c468a4ebcb378577a3fab382f": {
          "model_module": "@jupyter-widgets/controls",
          "model_name": "DescriptionStyleModel",
          "model_module_version": "1.5.0",
          "state": {
            "_model_module": "@jupyter-widgets/controls",
            "_model_module_version": "1.5.0",
            "_model_name": "DescriptionStyleModel",
            "_view_count": null,
            "_view_module": "@jupyter-widgets/base",
            "_view_module_version": "1.2.0",
            "_view_name": "StyleView",
            "description_width": ""
          }
        },
        "c1950b44fb7d4eb588a048f1a0625039": {
          "model_module": "@jupyter-widgets/controls",
          "model_name": "VBoxModel",
          "model_module_version": "1.5.0",
          "state": {
            "_dom_classes": [],
            "_model_module": "@jupyter-widgets/controls",
            "_model_module_version": "1.5.0",
            "_model_name": "VBoxModel",
            "_view_count": null,
            "_view_module": "@jupyter-widgets/controls",
            "_view_module_version": "1.5.0",
            "_view_name": "VBoxView",
            "box_style": "",
            "children": [
              "IPY_MODEL_05873f7eb07d4dfa87e11aa1c6a396ce",
              "IPY_MODEL_9a65b2e3f5be43e58d1e704e7a5b3bd7"
            ],
            "layout": "IPY_MODEL_2146c10afe894bceaa6379c3430af25c"
          }
        },
        "05873f7eb07d4dfa87e11aa1c6a396ce": {
          "model_module": "@jupyter-widgets/controls",
          "model_name": "LabelModel",
          "model_module_version": "1.5.0",
          "state": {
            "_dom_classes": [],
            "_model_module": "@jupyter-widgets/controls",
            "_model_module_version": "1.5.0",
            "_model_name": "LabelModel",
            "_view_count": null,
            "_view_module": "@jupyter-widgets/controls",
            "_view_module_version": "1.5.0",
            "_view_name": "LabelView",
            "description": "",
            "description_tooltip": null,
            "layout": "IPY_MODEL_41608313cc634fc49a7c4854162d2efe",
            "placeholder": "​",
            "style": "IPY_MODEL_f4d5b5d125974f4ebb3f5c321625f7c3",
            "value": "0.001 MB of 0.001 MB uploaded (0.000 MB deduped)\r"
          }
        },
        "9a65b2e3f5be43e58d1e704e7a5b3bd7": {
          "model_module": "@jupyter-widgets/controls",
          "model_name": "FloatProgressModel",
          "model_module_version": "1.5.0",
          "state": {
            "_dom_classes": [],
            "_model_module": "@jupyter-widgets/controls",
            "_model_module_version": "1.5.0",
            "_model_name": "FloatProgressModel",
            "_view_count": null,
            "_view_module": "@jupyter-widgets/controls",
            "_view_module_version": "1.5.0",
            "_view_name": "ProgressView",
            "bar_style": "",
            "description": "",
            "description_tooltip": null,
            "layout": "IPY_MODEL_490fd946af4e46bcbf42f7e386a2efed",
            "max": 1,
            "min": 0,
            "orientation": "horizontal",
            "style": "IPY_MODEL_153eccbabfac44e0920ceb93af9e9933",
            "value": 1
          }
        },
        "2146c10afe894bceaa6379c3430af25c": {
          "model_module": "@jupyter-widgets/base",
          "model_name": "LayoutModel",
          "model_module_version": "1.2.0",
          "state": {
            "_model_module": "@jupyter-widgets/base",
            "_model_module_version": "1.2.0",
            "_model_name": "LayoutModel",
            "_view_count": null,
            "_view_module": "@jupyter-widgets/base",
            "_view_module_version": "1.2.0",
            "_view_name": "LayoutView",
            "align_content": null,
            "align_items": null,
            "align_self": null,
            "border": null,
            "bottom": null,
            "display": null,
            "flex": null,
            "flex_flow": null,
            "grid_area": null,
            "grid_auto_columns": null,
            "grid_auto_flow": null,
            "grid_auto_rows": null,
            "grid_column": null,
            "grid_gap": null,
            "grid_row": null,
            "grid_template_areas": null,
            "grid_template_columns": null,
            "grid_template_rows": null,
            "height": null,
            "justify_content": null,
            "justify_items": null,
            "left": null,
            "margin": null,
            "max_height": null,
            "max_width": null,
            "min_height": null,
            "min_width": null,
            "object_fit": null,
            "object_position": null,
            "order": null,
            "overflow": null,
            "overflow_x": null,
            "overflow_y": null,
            "padding": null,
            "right": null,
            "top": null,
            "visibility": null,
            "width": null
          }
        },
        "41608313cc634fc49a7c4854162d2efe": {
          "model_module": "@jupyter-widgets/base",
          "model_name": "LayoutModel",
          "model_module_version": "1.2.0",
          "state": {
            "_model_module": "@jupyter-widgets/base",
            "_model_module_version": "1.2.0",
            "_model_name": "LayoutModel",
            "_view_count": null,
            "_view_module": "@jupyter-widgets/base",
            "_view_module_version": "1.2.0",
            "_view_name": "LayoutView",
            "align_content": null,
            "align_items": null,
            "align_self": null,
            "border": null,
            "bottom": null,
            "display": null,
            "flex": null,
            "flex_flow": null,
            "grid_area": null,
            "grid_auto_columns": null,
            "grid_auto_flow": null,
            "grid_auto_rows": null,
            "grid_column": null,
            "grid_gap": null,
            "grid_row": null,
            "grid_template_areas": null,
            "grid_template_columns": null,
            "grid_template_rows": null,
            "height": null,
            "justify_content": null,
            "justify_items": null,
            "left": null,
            "margin": null,
            "max_height": null,
            "max_width": null,
            "min_height": null,
            "min_width": null,
            "object_fit": null,
            "object_position": null,
            "order": null,
            "overflow": null,
            "overflow_x": null,
            "overflow_y": null,
            "padding": null,
            "right": null,
            "top": null,
            "visibility": null,
            "width": null
          }
        },
        "f4d5b5d125974f4ebb3f5c321625f7c3": {
          "model_module": "@jupyter-widgets/controls",
          "model_name": "DescriptionStyleModel",
          "model_module_version": "1.5.0",
          "state": {
            "_model_module": "@jupyter-widgets/controls",
            "_model_module_version": "1.5.0",
            "_model_name": "DescriptionStyleModel",
            "_view_count": null,
            "_view_module": "@jupyter-widgets/base",
            "_view_module_version": "1.2.0",
            "_view_name": "StyleView",
            "description_width": ""
          }
        },
        "490fd946af4e46bcbf42f7e386a2efed": {
          "model_module": "@jupyter-widgets/base",
          "model_name": "LayoutModel",
          "model_module_version": "1.2.0",
          "state": {
            "_model_module": "@jupyter-widgets/base",
            "_model_module_version": "1.2.0",
            "_model_name": "LayoutModel",
            "_view_count": null,
            "_view_module": "@jupyter-widgets/base",
            "_view_module_version": "1.2.0",
            "_view_name": "LayoutView",
            "align_content": null,
            "align_items": null,
            "align_self": null,
            "border": null,
            "bottom": null,
            "display": null,
            "flex": null,
            "flex_flow": null,
            "grid_area": null,
            "grid_auto_columns": null,
            "grid_auto_flow": null,
            "grid_auto_rows": null,
            "grid_column": null,
            "grid_gap": null,
            "grid_row": null,
            "grid_template_areas": null,
            "grid_template_columns": null,
            "grid_template_rows": null,
            "height": null,
            "justify_content": null,
            "justify_items": null,
            "left": null,
            "margin": null,
            "max_height": null,
            "max_width": null,
            "min_height": null,
            "min_width": null,
            "object_fit": null,
            "object_position": null,
            "order": null,
            "overflow": null,
            "overflow_x": null,
            "overflow_y": null,
            "padding": null,
            "right": null,
            "top": null,
            "visibility": null,
            "width": null
          }
        },
        "153eccbabfac44e0920ceb93af9e9933": {
          "model_module": "@jupyter-widgets/controls",
          "model_name": "ProgressStyleModel",
          "model_module_version": "1.5.0",
          "state": {
            "_model_module": "@jupyter-widgets/controls",
            "_model_module_version": "1.5.0",
            "_model_name": "ProgressStyleModel",
            "_view_count": null,
            "_view_module": "@jupyter-widgets/base",
            "_view_module_version": "1.2.0",
            "_view_name": "StyleView",
            "bar_color": null,
            "description_width": ""
          }
        }
      }
    }
  },
  "cells": [
    {
      "cell_type": "code",
      "source": [
        "!git clone https://github.com/emanhamed/Houses-dataset\n",
        "!git clone https://github.com/vcadillog/Ensemble-Network-House\n",
        "!pip install wandb -qU"
      ],
      "metadata": {
        "colab": {
          "base_uri": "https://localhost:8080/"
        },
        "id": "0-7LjpQRUh13",
        "outputId": "97c38ebf-f41e-4392-e053-489ba4c1f9f5"
      },
      "execution_count": 1,
      "outputs": [
        {
          "output_type": "stream",
          "name": "stdout",
          "text": [
            "Cloning into 'Houses-dataset'...\n",
            "remote: Enumerating objects: 2166, done.\u001b[K\n",
            "remote: Counting objects: 100% (1/1), done.\u001b[K\n",
            "remote: Total 2166 (delta 0), reused 0 (delta 0), pack-reused 2165\u001b[K\n",
            "Receiving objects: 100% (2166/2166), 176.26 MiB | 14.55 MiB/s, done.\n",
            "Resolving deltas: 100% (20/20), done.\n",
            "Updating files: 100% (2144/2144), done.\n",
            "Cloning into 'Ensemble-Network-House'...\n",
            "remote: Enumerating objects: 78, done.\u001b[K\n",
            "remote: Counting objects: 100% (78/78), done.\u001b[K\n",
            "remote: Compressing objects: 100% (58/58), done.\u001b[K\n",
            "remote: Total 78 (delta 31), reused 0 (delta 0), pack-reused 0\u001b[K\n",
            "Unpacking objects: 100% (78/78), 17.39 KiB | 211.00 KiB/s, done.\n",
            "\u001b[2K     \u001b[90m━━━━━━━━━━━━━━━━━━━━━━━━━━━━━━━━━━━━━━━━\u001b[0m \u001b[32m2.0/2.0 MB\u001b[0m \u001b[31m14.8 MB/s\u001b[0m eta \u001b[36m0:00:00\u001b[0m\n",
            "\u001b[?25h  Preparing metadata (setup.py) ... \u001b[?25l\u001b[?25hdone\n",
            "\u001b[2K     \u001b[90m━━━━━━━━━━━━━━━━━━━━━━━━━━━━━━━━━━━━━━━\u001b[0m \u001b[32m184.3/184.3 KB\u001b[0m \u001b[31m8.3 MB/s\u001b[0m eta \u001b[36m0:00:00\u001b[0m\n",
            "\u001b[2K     \u001b[90m━━━━━━━━━━━━━━━━━━━━━━━━━━━━━━━━━━━━━━\u001b[0m \u001b[32m189.1/189.1 KB\u001b[0m \u001b[31m10.0 MB/s\u001b[0m eta \u001b[36m0:00:00\u001b[0m\n",
            "\u001b[2K     \u001b[90m━━━━━━━━━━━━━━━━━━━━━━━━━━━━━━━━━━━━━━━━\u001b[0m \u001b[32m62.7/62.7 KB\u001b[0m \u001b[31m6.2 MB/s\u001b[0m eta \u001b[36m0:00:00\u001b[0m\n",
            "\u001b[?25h  Building wheel for pathtools (setup.py) ... \u001b[?25l\u001b[?25hdone\n"
          ]
        }
      ]
    },
    {
      "cell_type": "code",
      "source": [
        "import wandb\n",
        "wandb.login()\n"
      ],
      "metadata": {
        "colab": {
          "base_uri": "https://localhost:8080/",
          "height": 69
        },
        "id": "w39RDruA3ukV",
        "outputId": "4787cafd-bccc-468e-b469-cb0db6984616"
      },
      "execution_count": null,
      "outputs": [
        {
          "output_type": "display_data",
          "data": {
            "text/plain": [
              "<IPython.core.display.Javascript object>"
            ],
            "application/javascript": [
              "\n",
              "        window._wandbApiKey = new Promise((resolve, reject) => {\n",
              "            function loadScript(url) {\n",
              "            return new Promise(function(resolve, reject) {\n",
              "                let newScript = document.createElement(\"script\");\n",
              "                newScript.onerror = reject;\n",
              "                newScript.onload = resolve;\n",
              "                document.body.appendChild(newScript);\n",
              "                newScript.src = url;\n",
              "            });\n",
              "            }\n",
              "            loadScript(\"https://cdn.jsdelivr.net/npm/postmate/build/postmate.min.js\").then(() => {\n",
              "            const iframe = document.createElement('iframe')\n",
              "            iframe.style.cssText = \"width:0;height:0;border:none\"\n",
              "            document.body.appendChild(iframe)\n",
              "            const handshake = new Postmate({\n",
              "                container: iframe,\n",
              "                url: 'https://wandb.ai/authorize'\n",
              "            });\n",
              "            const timeout = setTimeout(() => reject(\"Couldn't auto authenticate\"), 5000)\n",
              "            handshake.then(function(child) {\n",
              "                child.on('authorize', data => {\n",
              "                    clearTimeout(timeout)\n",
              "                    resolve(data)\n",
              "                });\n",
              "            });\n",
              "            })\n",
              "        });\n",
              "    "
            ]
          },
          "metadata": {}
        },
        {
          "output_type": "stream",
          "name": "stderr",
          "text": [
            "\u001b[34m\u001b[1mwandb\u001b[0m: Appending key for api.wandb.ai to your netrc file: /root/.netrc\n"
          ]
        },
        {
          "output_type": "execute_result",
          "data": {
            "text/plain": [
              "True"
            ]
          },
          "metadata": {},
          "execution_count": 6
        }
      ]
    },
    {
      "cell_type": "code",
      "source": [
        "import sys\n",
        "sys.path.append('./Ensemble-Network-House/utils')\n",
        "from learning import run,set_seed, data_transforms\n",
        "from dataset import CustomDataset\n",
        "\n",
        "import pandas as pd\n",
        "import cv2\n",
        "import os\n",
        "import numpy as np\n",
        "\n",
        "from sklearn.preprocessing import OneHotEncoder, RobustScaler\n",
        "from torchvision.transforms import Normalize, ToPILImage\n",
        "from torch.utils.data import DataLoader\n",
        "\n",
        "set_seed(42)"
      ],
      "metadata": {
        "id": "nZtwOSqip6mI"
      },
      "execution_count": 6,
      "outputs": []
    },
    {
      "cell_type": "code",
      "source": [
        "\n",
        "filename = './Houses-dataset/Houses Dataset/HousesInfo.txt'\n",
        "df = pd.read_csv(filename, sep = \" \", names = ['Bedrooms','Bathrooms','Area','Zipcode','Price'])\n"
      ],
      "metadata": {
        "id": "VfPBl3zWYDSs"
      },
      "execution_count": 3,
      "outputs": []
    },
    {
      "cell_type": "code",
      "source": [
        "df"
      ],
      "metadata": {
        "colab": {
          "base_uri": "https://localhost:8080/",
          "height": 424
        },
        "id": "tEPqA4UymXyY",
        "outputId": "4630f465-1034-499e-e434-af9d09f17436"
      },
      "execution_count": null,
      "outputs": [
        {
          "output_type": "execute_result",
          "data": {
            "text/plain": [
              "     Bedrooms  Bathrooms  Area  Zipcode   Price\n",
              "0           4        4.0  4053    85255  869500\n",
              "1           4        3.0  3343    36372  865200\n",
              "2           3        4.0  3923    85266  889000\n",
              "3           5        5.0  4022    85262  910000\n",
              "4           3        4.0  4116    85266  971226\n",
              "..        ...        ...   ...      ...     ...\n",
              "530         5        2.0  2066    94531  399900\n",
              "531         4        3.5  9536    94531  460000\n",
              "532         3        2.0  2014    94531  407000\n",
              "533         4        3.0  2312    94531  419000\n",
              "534         5        3.0  3796    94531  615000\n",
              "\n",
              "[535 rows x 5 columns]"
            ],
            "text/html": [
              "\n",
              "  <div id=\"df-e121f6f6-4e0c-4a22-ac96-d17e89c76cad\">\n",
              "    <div class=\"colab-df-container\">\n",
              "      <div>\n",
              "<style scoped>\n",
              "    .dataframe tbody tr th:only-of-type {\n",
              "        vertical-align: middle;\n",
              "    }\n",
              "\n",
              "    .dataframe tbody tr th {\n",
              "        vertical-align: top;\n",
              "    }\n",
              "\n",
              "    .dataframe thead th {\n",
              "        text-align: right;\n",
              "    }\n",
              "</style>\n",
              "<table border=\"1\" class=\"dataframe\">\n",
              "  <thead>\n",
              "    <tr style=\"text-align: right;\">\n",
              "      <th></th>\n",
              "      <th>Bedrooms</th>\n",
              "      <th>Bathrooms</th>\n",
              "      <th>Area</th>\n",
              "      <th>Zipcode</th>\n",
              "      <th>Price</th>\n",
              "    </tr>\n",
              "  </thead>\n",
              "  <tbody>\n",
              "    <tr>\n",
              "      <th>0</th>\n",
              "      <td>4</td>\n",
              "      <td>4.0</td>\n",
              "      <td>4053</td>\n",
              "      <td>85255</td>\n",
              "      <td>869500</td>\n",
              "    </tr>\n",
              "    <tr>\n",
              "      <th>1</th>\n",
              "      <td>4</td>\n",
              "      <td>3.0</td>\n",
              "      <td>3343</td>\n",
              "      <td>36372</td>\n",
              "      <td>865200</td>\n",
              "    </tr>\n",
              "    <tr>\n",
              "      <th>2</th>\n",
              "      <td>3</td>\n",
              "      <td>4.0</td>\n",
              "      <td>3923</td>\n",
              "      <td>85266</td>\n",
              "      <td>889000</td>\n",
              "    </tr>\n",
              "    <tr>\n",
              "      <th>3</th>\n",
              "      <td>5</td>\n",
              "      <td>5.0</td>\n",
              "      <td>4022</td>\n",
              "      <td>85262</td>\n",
              "      <td>910000</td>\n",
              "    </tr>\n",
              "    <tr>\n",
              "      <th>4</th>\n",
              "      <td>3</td>\n",
              "      <td>4.0</td>\n",
              "      <td>4116</td>\n",
              "      <td>85266</td>\n",
              "      <td>971226</td>\n",
              "    </tr>\n",
              "    <tr>\n",
              "      <th>...</th>\n",
              "      <td>...</td>\n",
              "      <td>...</td>\n",
              "      <td>...</td>\n",
              "      <td>...</td>\n",
              "      <td>...</td>\n",
              "    </tr>\n",
              "    <tr>\n",
              "      <th>530</th>\n",
              "      <td>5</td>\n",
              "      <td>2.0</td>\n",
              "      <td>2066</td>\n",
              "      <td>94531</td>\n",
              "      <td>399900</td>\n",
              "    </tr>\n",
              "    <tr>\n",
              "      <th>531</th>\n",
              "      <td>4</td>\n",
              "      <td>3.5</td>\n",
              "      <td>9536</td>\n",
              "      <td>94531</td>\n",
              "      <td>460000</td>\n",
              "    </tr>\n",
              "    <tr>\n",
              "      <th>532</th>\n",
              "      <td>3</td>\n",
              "      <td>2.0</td>\n",
              "      <td>2014</td>\n",
              "      <td>94531</td>\n",
              "      <td>407000</td>\n",
              "    </tr>\n",
              "    <tr>\n",
              "      <th>533</th>\n",
              "      <td>4</td>\n",
              "      <td>3.0</td>\n",
              "      <td>2312</td>\n",
              "      <td>94531</td>\n",
              "      <td>419000</td>\n",
              "    </tr>\n",
              "    <tr>\n",
              "      <th>534</th>\n",
              "      <td>5</td>\n",
              "      <td>3.0</td>\n",
              "      <td>3796</td>\n",
              "      <td>94531</td>\n",
              "      <td>615000</td>\n",
              "    </tr>\n",
              "  </tbody>\n",
              "</table>\n",
              "<p>535 rows × 5 columns</p>\n",
              "</div>\n",
              "      <button class=\"colab-df-convert\" onclick=\"convertToInteractive('df-e121f6f6-4e0c-4a22-ac96-d17e89c76cad')\"\n",
              "              title=\"Convert this dataframe to an interactive table.\"\n",
              "              style=\"display:none;\">\n",
              "        \n",
              "  <svg xmlns=\"http://www.w3.org/2000/svg\" height=\"24px\"viewBox=\"0 0 24 24\"\n",
              "       width=\"24px\">\n",
              "    <path d=\"M0 0h24v24H0V0z\" fill=\"none\"/>\n",
              "    <path d=\"M18.56 5.44l.94 2.06.94-2.06 2.06-.94-2.06-.94-.94-2.06-.94 2.06-2.06.94zm-11 1L8.5 8.5l.94-2.06 2.06-.94-2.06-.94L8.5 2.5l-.94 2.06-2.06.94zm10 10l.94 2.06.94-2.06 2.06-.94-2.06-.94-.94-2.06-.94 2.06-2.06.94z\"/><path d=\"M17.41 7.96l-1.37-1.37c-.4-.4-.92-.59-1.43-.59-.52 0-1.04.2-1.43.59L10.3 9.45l-7.72 7.72c-.78.78-.78 2.05 0 2.83L4 21.41c.39.39.9.59 1.41.59.51 0 1.02-.2 1.41-.59l7.78-7.78 2.81-2.81c.8-.78.8-2.07 0-2.86zM5.41 20L4 18.59l7.72-7.72 1.47 1.35L5.41 20z\"/>\n",
              "  </svg>\n",
              "      </button>\n",
              "      \n",
              "  <style>\n",
              "    .colab-df-container {\n",
              "      display:flex;\n",
              "      flex-wrap:wrap;\n",
              "      gap: 12px;\n",
              "    }\n",
              "\n",
              "    .colab-df-convert {\n",
              "      background-color: #E8F0FE;\n",
              "      border: none;\n",
              "      border-radius: 50%;\n",
              "      cursor: pointer;\n",
              "      display: none;\n",
              "      fill: #1967D2;\n",
              "      height: 32px;\n",
              "      padding: 0 0 0 0;\n",
              "      width: 32px;\n",
              "    }\n",
              "\n",
              "    .colab-df-convert:hover {\n",
              "      background-color: #E2EBFA;\n",
              "      box-shadow: 0px 1px 2px rgba(60, 64, 67, 0.3), 0px 1px 3px 1px rgba(60, 64, 67, 0.15);\n",
              "      fill: #174EA6;\n",
              "    }\n",
              "\n",
              "    [theme=dark] .colab-df-convert {\n",
              "      background-color: #3B4455;\n",
              "      fill: #D2E3FC;\n",
              "    }\n",
              "\n",
              "    [theme=dark] .colab-df-convert:hover {\n",
              "      background-color: #434B5C;\n",
              "      box-shadow: 0px 1px 3px 1px rgba(0, 0, 0, 0.15);\n",
              "      filter: drop-shadow(0px 1px 2px rgba(0, 0, 0, 0.3));\n",
              "      fill: #FFFFFF;\n",
              "    }\n",
              "  </style>\n",
              "\n",
              "      <script>\n",
              "        const buttonEl =\n",
              "          document.querySelector('#df-e121f6f6-4e0c-4a22-ac96-d17e89c76cad button.colab-df-convert');\n",
              "        buttonEl.style.display =\n",
              "          google.colab.kernel.accessAllowed ? 'block' : 'none';\n",
              "\n",
              "        async function convertToInteractive(key) {\n",
              "          const element = document.querySelector('#df-e121f6f6-4e0c-4a22-ac96-d17e89c76cad');\n",
              "          const dataTable =\n",
              "            await google.colab.kernel.invokeFunction('convertToInteractive',\n",
              "                                                     [key], {});\n",
              "          if (!dataTable) return;\n",
              "\n",
              "          const docLinkHtml = 'Like what you see? Visit the ' +\n",
              "            '<a target=\"_blank\" href=https://colab.research.google.com/notebooks/data_table.ipynb>data table notebook</a>'\n",
              "            + ' to learn more about interactive tables.';\n",
              "          element.innerHTML = '';\n",
              "          dataTable['output_type'] = 'display_data';\n",
              "          await google.colab.output.renderOutput(dataTable, element);\n",
              "          const docLink = document.createElement('div');\n",
              "          docLink.innerHTML = docLinkHtml;\n",
              "          element.appendChild(docLink);\n",
              "        }\n",
              "      </script>\n",
              "    </div>\n",
              "  </div>\n",
              "  "
            ]
          },
          "metadata": {},
          "execution_count": 3
        }
      ]
    },
    {
      "cell_type": "code",
      "source": [
        "df.dtypes"
      ],
      "metadata": {
        "colab": {
          "base_uri": "https://localhost:8080/"
        },
        "id": "VX_kZ5dCYKxM",
        "outputId": "882b820c-9a59-40d8-e009-b96291ccb2dc"
      },
      "execution_count": null,
      "outputs": [
        {
          "output_type": "execute_result",
          "data": {
            "text/plain": [
              "Bedrooms       int64\n",
              "Bathrooms    float64\n",
              "Area           int64\n",
              "Zipcode        int64\n",
              "Price          int64\n",
              "dtype: object"
            ]
          },
          "metadata": {},
          "execution_count": 4
        }
      ]
    },
    {
      "cell_type": "code",
      "source": [
        "print('Numbers of different Zipcode: ',len(df.groupby('Zipcode').count()))\n",
        "print('Numbers of different Area: ',len(df.groupby('Area').count()))"
      ],
      "metadata": {
        "colab": {
          "base_uri": "https://localhost:8080/"
        },
        "id": "wa7xmXwneCpK",
        "outputId": "63c6a7d1-3bd0-4885-e9d5-fad249027943"
      },
      "execution_count": null,
      "outputs": [
        {
          "output_type": "stream",
          "name": "stdout",
          "text": [
            "Numbers of different Zipcode:  49\n",
            "Numbers of different Area:  435\n"
          ]
        }
      ]
    },
    {
      "cell_type": "code",
      "source": [
        "\n",
        "# Define the directory path and matching suffix\n",
        "dir_path ='/content/Houses-dataset/Houses Dataset'\n",
        "# Iterate over all files in the directory\n",
        "img_sizes = []\n",
        "\n",
        "file_list = os.listdir(dir_path)\n",
        "num_files = len(file_list)\n",
        "print(\"Number of files: \",num_files)\n",
        "\n",
        "for i in range(1,round(num_files/4)+1):\n",
        "  suffix = str(i)+\"_\"\n",
        "  image_counter = 0\n",
        "  for filename in os.listdir(dir_path):\n",
        "      # Check if the file has the matching suffix\n",
        "      \n",
        "      if filename.startswith(suffix):\n",
        "        image_counter += 1\n",
        "\n",
        "        img_sizes.append(cv2.imread(os.path.join(dir_path, filename)).shape)\n",
        "  if image_counter != 4:\n",
        "    print('Number of images: {0:1d} for datapoint: {1:3d}'.format(image_counter,i))\n",
        " "
      ],
      "metadata": {
        "colab": {
          "base_uri": "https://localhost:8080/"
        },
        "id": "o6VUGzsM0E3s",
        "outputId": "f082964a-7396-4bb5-af5f-3e5f3f08de38"
      },
      "execution_count": null,
      "outputs": [
        {
          "output_type": "stream",
          "name": "stdout",
          "text": [
            "Number of files:  2141\n"
          ]
        }
      ]
    },
    {
      "cell_type": "code",
      "source": [
        "\n",
        "img_sizes_arr = np.array(img_sizes)\n",
        "\n",
        "\n",
        "mean_height = np.mean(img_sizes_arr[:, 0]) # Mean of the height dimension\n",
        "std_height = np.std(img_sizes_arr[:, 0]) # Standard deviation of the height dimension\n",
        "min_height = np.min(img_sizes_arr[:, 0]) # Minimum of the height dimension\n",
        "max_height = np.max(img_sizes_arr[:, 0]) # Maximum of the height dimension\n",
        "\n",
        "mean_width = np.mean(img_sizes_arr[:, 1]) # Mean of the width dimension\n",
        "std_width = np.std(img_sizes_arr[:, 1]) # Standard deviation of the width dimension\n",
        "min_width = np.min(img_sizes_arr[:, 1]) # Minimum of the width dimension\n",
        "max_width = np.max(img_sizes_arr[:, 1]) # Maximum of the width dimension\n",
        "\n",
        "print(\"Mean height: \", mean_height)\n",
        "print(\"Standard deviation height: \", std_height)\n",
        "print(\"Minimum height: \", min_height)\n",
        "print(\"Maximum height: \", max_height)\n",
        "print(\"Mean width: \", mean_width)\n",
        "print(\"Standard deviation width: \", std_width)\n",
        "print(\"Minimum width: \", min_width)\n",
        "print(\"Maximum width: \", max_width)\n",
        "\n"
      ],
      "metadata": {
        "colab": {
          "base_uri": "https://localhost:8080/"
        },
        "id": "SYWXM_R1zc9L",
        "outputId": "0767ccfd-5998-426e-d360-63d85681acf1"
      },
      "execution_count": null,
      "outputs": [
        {
          "output_type": "stream",
          "name": "stdout",
          "text": [
            "Mean height:  573.0135514018691\n",
            "Standard deviation height:  135.1872336210654\n",
            "Minimum height:  187\n",
            "Maximum height:  1484\n",
            "Mean width:  802.3850467289719\n",
            "Standard deviation width:  190.37931482888953\n",
            "Minimum width:  240\n",
            "Maximum width:  1484\n"
          ]
        }
      ]
    },
    {
      "cell_type": "code",
      "source": [
        "oh_encoder = OneHotEncoder()\n",
        "rs_encoder = RobustScaler()\n",
        "\n",
        "X_rs = rs_encoder.fit_transform(df[['Bedrooms','Bathrooms','Area']])\n",
        "X_oh = oh_encoder.fit_transform(df[['Zipcode']]).toarray()\n",
        "\n",
        "\n",
        "X = np.concatenate([X_rs, X_oh],axis = 1)\n",
        "y = df['Price']/df['Price'].max()"
      ],
      "metadata": {
        "id": "SNhc0nVIwUDd"
      },
      "execution_count": 4,
      "outputs": []
    },
    {
      "cell_type": "code",
      "source": [
        "dummy_dataset = CustomDataset(mode='ensemble',meta = X,dir_path = '/content/Houses-dataset/Houses Dataset', y = y, transform= data_transforms(visualize = True))\n",
        "batch_size = 64\n",
        "\n",
        "\n",
        "dummy_dataloader = DataLoader(dummy_dataset, batch_size=batch_size, shuffle=True, num_workers = 2)\n",
        "\n",
        "dummy_meta, dummy_img, dummy_target = next(iter(dummy_dataloader))\n",
        "\n",
        "print(f\"Feature batch shape: {dummy_meta.size()}\")\n",
        "print(f\"Image batch shape: {dummy_img.size()}\")\n",
        "print(f\"Regression batch shape: {dummy_target.size()}\")"
      ],
      "metadata": {
        "colab": {
          "base_uri": "https://localhost:8080/"
        },
        "id": "5BOUvukB9VOs",
        "outputId": "710e404d-0baa-42d2-edb3-2c3532eb55d7"
      },
      "execution_count": 7,
      "outputs": [
        {
          "output_type": "stream",
          "name": "stdout",
          "text": [
            "Feature batch shape: torch.Size([64, 52])\n",
            "Image batch shape: torch.Size([64, 3, 200, 200])\n",
            "Regression batch shape: torch.Size([64])\n"
          ]
        }
      ]
    },
    {
      "cell_type": "code",
      "source": [
        "ToPILImage()(dummy_img[42])\n"
      ],
      "metadata": {
        "colab": {
          "base_uri": "https://localhost:8080/",
          "height": 217
        },
        "id": "14ZhpDeT-69e",
        "outputId": "d05612aa-6d33-41f0-e321-5c36af016b5f"
      },
      "execution_count": 8,
      "outputs": [
        {
          "output_type": "execute_result",
          "data": {
            "text/plain": [
              "<PIL.Image.Image image mode=RGB size=200x200 at 0x7FAEB0096EE0>"
            ],
            "image/png": "[encoded data removed]"
          },
          "metadata": {},
          "execution_count": 8
        }
      ]
    },
    {
      "cell_type": "code",
      "source": [
        "norm_transform = Normalize(mean = [0.485, 0.456, 0.406], std = [0.229, 0.224, 0.225])\n",
        "transform_img = norm_transform(dummy_img[42])\n",
        "ToPILImage()(transform_img)"
      ],
      "metadata": {
        "colab": {
          "base_uri": "https://localhost:8080/",
          "height": 217
        },
        "id": "yKx7LDVeBtbT",
        "outputId": "0105d961-a730-48ce-e8ab-cf981c69a19a"
      },
      "execution_count": 9,
      "outputs": [
        {
          "output_type": "execute_result",
          "data": {
            "text/plain": [
              "<PIL.Image.Image image mode=RGB size=200x200 at 0x7FAEB008A340>"
            ],
            "image/png": "[encoded data removed]"
          },
          "metadata": {},
          "execution_count": 9
        }
      ]
    },
    {
      "cell_type": "code",
      "source": [
        "# META DATA KFOLD \n",
        "run('meta', X,y, num_epochs = 25, batch_size = 32, num_folds = 5)"
      ],
      "metadata": {
        "colab": {
          "base_uri": "https://localhost:8080/",
          "height": 1000
        },
        "id": "iDCLS1npqkVX",
        "outputId": "9017f5eb-efb0-49d3-f190-406a26ab6c70"
      },
      "execution_count": null,
      "outputs": [
        {
          "output_type": "stream",
          "name": "stderr",
          "text": [
            "\u001b[34m\u001b[1mwandb\u001b[0m: Currently logged in as: \u001b[33mvcadillo\u001b[0m. Use \u001b[1m`wandb login --relogin`\u001b[0m to force relogin\n"
          ]
        },
        {
          "output_type": "display_data",
          "data": {
            "text/plain": [
              "<IPython.core.display.HTML object>"
            ],
            "text/html": [
              "Tracking run with wandb version 0.14.0"
            ]
          },
          "metadata": {}
        },
        {
          "output_type": "display_data",
          "data": {
            "text/plain": [
              "<IPython.core.display.HTML object>"
            ],
            "text/html": [
              "Run data is saved locally in <code>/content/wandb/run-20230318_223203-ufgnxwq0</code>"
            ]
          },
          "metadata": {}
        },
        {
          "output_type": "display_data",
          "data": {
            "text/plain": [
              "<IPython.core.display.HTML object>"
            ],
            "text/html": [
              "Syncing run <strong><a href='https://wandb.ai/vcadillo/House/runs/ufgnxwq0' target=\"_blank\">lunar-salad-75</a></strong> to <a href='https://wandb.ai/vcadillo/House' target=\"_blank\">Weights & Biases</a> (<a href='https://wandb.me/run' target=\"_blank\">docs</a>)<br/>"
            ]
          },
          "metadata": {}
        },
        {
          "output_type": "display_data",
          "data": {
            "text/plain": [
              "<IPython.core.display.HTML object>"
            ],
            "text/html": [
              " View project at <a href='https://wandb.ai/vcadillo/House' target=\"_blank\">https://wandb.ai/vcadillo/House</a>"
            ]
          },
          "metadata": {}
        },
        {
          "output_type": "display_data",
          "data": {
            "text/plain": [
              "<IPython.core.display.HTML object>"
            ],
            "text/html": [
              " View run at <a href='https://wandb.ai/vcadillo/House/runs/ufgnxwq0' target=\"_blank\">https://wandb.ai/vcadillo/House/runs/ufgnxwq0</a>"
            ]
          },
          "metadata": {}
        },
        {
          "output_type": "stream",
          "name": "stdout",
          "text": [
            "Fold 1\n",
            "Epoch 1: train_loss=0.1004, val_loss=0.0101\n",
            "Epoch 2: train_loss=0.0603, val_loss=0.0148\n",
            "Epoch 3: train_loss=0.0753, val_loss=0.0223\n",
            "Epoch 4: train_loss=0.0532, val_loss=0.0366\n",
            "Epoch 5: train_loss=0.0541, val_loss=0.0432\n",
            "Epoch 6: train_loss=0.0645, val_loss=0.0398\n",
            "Epoch 7: train_loss=0.0442, val_loss=0.0312\n",
            "Epoch 8: train_loss=0.0492, val_loss=0.0434\n",
            "Epoch 9: train_loss=0.0445, val_loss=0.0269\n",
            "Epoch 10: train_loss=0.0390, val_loss=0.0310\n",
            "Epoch 11: train_loss=0.0447, val_loss=0.0316\n",
            "Epoch 12: train_loss=0.0403, val_loss=0.0308\n",
            "Epoch 13: train_loss=0.0421, val_loss=0.0288\n",
            "Epoch 14: train_loss=0.0413, val_loss=0.0272\n",
            "Epoch 15: train_loss=0.0359, val_loss=0.0243\n",
            "Epoch 16: train_loss=0.0350, val_loss=0.0252\n",
            "Epoch 17: train_loss=0.0365, val_loss=0.0233\n",
            "Epoch 18: train_loss=0.0415, val_loss=0.0184\n",
            "Epoch 19: train_loss=0.0309, val_loss=0.0252\n",
            "Epoch 20: train_loss=0.0378, val_loss=0.0370\n",
            "Epoch 21: train_loss=0.0330, val_loss=0.0240\n",
            "Epoch 22: train_loss=0.0332, val_loss=0.0172\n",
            "Epoch 23: train_loss=0.0306, val_loss=0.0159\n",
            "Epoch 24: train_loss=0.0311, val_loss=0.0157\n",
            "Epoch 25: train_loss=0.0282, val_loss=0.0207\n",
            "Fold 2\n",
            "Epoch 1: train_loss=0.1280, val_loss=0.0351\n",
            "Epoch 2: train_loss=0.0999, val_loss=0.0479\n",
            "Epoch 3: train_loss=0.0835, val_loss=0.0726\n",
            "Epoch 4: train_loss=0.0680, val_loss=0.0676\n",
            "Epoch 5: train_loss=0.0592, val_loss=0.0371\n",
            "Epoch 6: train_loss=0.0606, val_loss=0.0346\n",
            "Epoch 7: train_loss=0.0561, val_loss=0.0264\n",
            "Epoch 8: train_loss=0.0583, val_loss=0.0280\n",
            "Epoch 9: train_loss=0.0390, val_loss=0.0250\n",
            "Epoch 10: train_loss=0.0450, val_loss=0.0195\n",
            "Epoch 11: train_loss=0.0403, val_loss=0.0186\n",
            "Epoch 12: train_loss=0.0414, val_loss=0.0202\n",
            "Epoch 13: train_loss=0.0374, val_loss=0.0217\n",
            "Epoch 14: train_loss=0.0393, val_loss=0.0192\n",
            "Epoch 15: train_loss=0.0409, val_loss=0.0178\n",
            "Epoch 16: train_loss=0.0350, val_loss=0.0164\n",
            "Epoch 17: train_loss=0.0315, val_loss=0.0170\n",
            "Epoch 18: train_loss=0.0260, val_loss=0.0167\n",
            "Epoch 19: train_loss=0.0347, val_loss=0.0157\n",
            "Epoch 20: train_loss=0.0350, val_loss=0.0188\n",
            "Epoch 21: train_loss=0.0318, val_loss=0.0143\n",
            "Epoch 22: train_loss=0.0308, val_loss=0.0214\n",
            "Epoch 23: train_loss=0.0315, val_loss=0.0141\n",
            "Epoch 24: train_loss=0.0320, val_loss=0.0119\n",
            "Epoch 25: train_loss=0.0291, val_loss=0.0106\n",
            "Fold 3\n",
            "Epoch 1: train_loss=0.1744, val_loss=0.0431\n",
            "Epoch 2: train_loss=0.1295, val_loss=0.0536\n",
            "Epoch 3: train_loss=0.1172, val_loss=0.0411\n",
            "Epoch 4: train_loss=0.0952, val_loss=0.0620\n",
            "Epoch 5: train_loss=0.0831, val_loss=0.0885\n",
            "Epoch 6: train_loss=0.0626, val_loss=0.0474\n",
            "Epoch 7: train_loss=0.0657, val_loss=0.0509\n",
            "Epoch 8: train_loss=0.0587, val_loss=0.0400\n",
            "Epoch 9: train_loss=0.0610, val_loss=0.0243\n",
            "Epoch 10: train_loss=0.0527, val_loss=0.0255\n",
            "Epoch 11: train_loss=0.0526, val_loss=0.0187\n",
            "Epoch 12: train_loss=0.0463, val_loss=0.0182\n",
            "Epoch 13: train_loss=0.0526, val_loss=0.0224\n",
            "Epoch 14: train_loss=0.0586, val_loss=0.0216\n",
            "Epoch 15: train_loss=0.0468, val_loss=0.0205\n",
            "Epoch 16: train_loss=0.0465, val_loss=0.0161\n",
            "Epoch 17: train_loss=0.0386, val_loss=0.0162\n",
            "Epoch 18: train_loss=0.0393, val_loss=0.0106\n",
            "Epoch 19: train_loss=0.0456, val_loss=0.0095\n",
            "Epoch 20: train_loss=0.0415, val_loss=0.0132\n",
            "Epoch 21: train_loss=0.0344, val_loss=0.0087\n",
            "Epoch 22: train_loss=0.0333, val_loss=0.0105\n",
            "Epoch 23: train_loss=0.0377, val_loss=0.0105\n",
            "Epoch 24: train_loss=0.0339, val_loss=0.0086\n",
            "Epoch 25: train_loss=0.0350, val_loss=0.0083\n",
            "Fold 4\n",
            "Epoch 1: train_loss=0.1312, val_loss=0.0260\n",
            "Epoch 2: train_loss=0.0978, val_loss=0.0222\n",
            "Epoch 3: train_loss=0.0724, val_loss=0.0258\n",
            "Epoch 4: train_loss=0.0664, val_loss=0.0382\n",
            "Epoch 5: train_loss=0.0639, val_loss=0.0275\n",
            "Epoch 6: train_loss=0.0616, val_loss=0.0126\n",
            "Epoch 7: train_loss=0.0498, val_loss=0.0186\n",
            "Epoch 8: train_loss=0.0521, val_loss=0.0141\n",
            "Epoch 9: train_loss=0.0441, val_loss=0.0205\n",
            "Epoch 10: train_loss=0.0436, val_loss=0.0146\n",
            "Epoch 11: train_loss=0.0448, val_loss=0.0235\n",
            "Epoch 12: train_loss=0.0461, val_loss=0.0128\n",
            "Epoch 13: train_loss=0.0463, val_loss=0.0119\n",
            "Epoch 14: train_loss=0.0482, val_loss=0.0128\n",
            "Epoch 15: train_loss=0.0370, val_loss=0.0102\n",
            "Epoch 16: train_loss=0.0353, val_loss=0.0084\n",
            "Epoch 17: train_loss=0.0360, val_loss=0.0110\n",
            "Epoch 18: train_loss=0.0346, val_loss=0.0153\n",
            "Epoch 19: train_loss=0.0328, val_loss=0.0124\n",
            "Epoch 20: train_loss=0.0307, val_loss=0.0088\n",
            "Epoch 21: train_loss=0.0406, val_loss=0.0128\n",
            "Epoch 22: train_loss=0.0342, val_loss=0.0088\n",
            "Epoch 23: train_loss=0.0353, val_loss=0.0126\n",
            "Epoch 24: train_loss=0.0373, val_loss=0.0120\n",
            "Epoch 25: train_loss=0.0280, val_loss=0.0080\n",
            "Fold 5\n",
            "Epoch 1: train_loss=0.0908, val_loss=0.0061\n",
            "Epoch 2: train_loss=0.0771, val_loss=0.0127\n",
            "Epoch 3: train_loss=0.0831, val_loss=0.0211\n",
            "Epoch 4: train_loss=0.0658, val_loss=0.0218\n",
            "Epoch 5: train_loss=0.0503, val_loss=0.0137\n",
            "Epoch 6: train_loss=0.0605, val_loss=0.0128\n",
            "Epoch 7: train_loss=0.0599, val_loss=0.0133\n",
            "Epoch 8: train_loss=0.0439, val_loss=0.0107\n",
            "Epoch 9: train_loss=0.0525, val_loss=0.0207\n",
            "Epoch 10: train_loss=0.0429, val_loss=0.0128\n",
            "Epoch 11: train_loss=0.0453, val_loss=0.0092\n",
            "Epoch 12: train_loss=0.0468, val_loss=0.0485\n",
            "Epoch 13: train_loss=0.0398, val_loss=0.0165\n",
            "Epoch 14: train_loss=0.0463, val_loss=0.0085\n",
            "Epoch 15: train_loss=0.0362, val_loss=0.0128\n",
            "Epoch 16: train_loss=0.0354, val_loss=0.0100\n",
            "Epoch 17: train_loss=0.0342, val_loss=0.0077\n",
            "Epoch 18: train_loss=0.0399, val_loss=0.0043\n",
            "Epoch 19: train_loss=0.0448, val_loss=0.0062\n",
            "Epoch 20: train_loss=0.0290, val_loss=0.0115\n",
            "Epoch 21: train_loss=0.0385, val_loss=0.0073\n",
            "Epoch 22: train_loss=0.0372, val_loss=0.0078\n",
            "Epoch 23: train_loss=0.0332, val_loss=0.0067\n",
            "Epoch 24: train_loss=0.0330, val_loss=0.0066\n",
            "Epoch 25: train_loss=0.0354, val_loss=0.0098\n"
          ]
        }
      ]
    },
    {
      "cell_type": "code",
      "source": [
        "# IMAGE DATA KFOLD \n",
        "run('image', X,y, num_epochs = 25, batch_size = 64, num_folds = 5)"
      ],
      "metadata": {
        "colab": {
          "base_uri": "https://localhost:8080/",
          "height": 1000
        },
        "id": "TI250D30tdS_",
        "outputId": "5ec27e39-7a76-4db8-a7d9-8d3e2fd8139a"
      },
      "execution_count": null,
      "outputs": [
        {
          "output_type": "display_data",
          "data": {
            "text/plain": [
              "<IPython.core.display.HTML object>"
            ],
            "text/html": [
              "Finishing last run (ID:e9zuu51l) before initializing another..."
            ]
          },
          "metadata": {}
        },
        {
          "output_type": "display_data",
          "data": {
            "text/plain": [
              "<IPython.core.display.HTML object>"
            ],
            "text/html": [
              "Waiting for W&B process to finish... <strong style=\"color:green\">(success).</strong>"
            ]
          },
          "metadata": {}
        },
        {
          "output_type": "display_data",
          "data": {
            "text/plain": [
              "<IPython.core.display.HTML object>"
            ],
            "text/html": [
              "<style>\n",
              "    table.wandb td:nth-child(1) { padding: 0 10px; text-align: left ; width: auto;} td:nth-child(2) {text-align: left ; width: 100%}\n",
              "    .wandb-row { display: flex; flex-direction: row; flex-wrap: wrap; justify-content: flex-start; width: 100% }\n",
              "    .wandb-col { display: flex; flex-direction: column; flex-basis: 100%; flex: 1; padding: 10px; }\n",
              "    </style>\n",
              "<div class=\"wandb-row\"><div class=\"wandb-col\"><h3>Run history:</h3><br/><table class=\"wandb\"><tr><td>Epoch</td><td>▁▂▃▄▅▆▇█▁▂▃▄▅▆▇█▁▂▃▄▅▆▇█▁▂▃▄▅▆▇█▁▂▃▄▅▆▇█</td></tr><tr><td>Fold</td><td>▁▁▁▁▁▁▁▁▃▃▃▃▃▃▃▃▅▅▅▅▅▅▅▅▆▆▆▆▆▆▆▆████████</td></tr><tr><td>Train loss</td><td>▇▃▂▂▁▁▁▁█▃▃▂▂▂▁▁█▂▂▁▁▁▁▁▆▃▂▂▁▁▁▁▆▂▂▂▁▁▁▁</td></tr><tr><td>Validation Loss</td><td>▅▄▃▂▂▂▁▂█▃▂▂▂▂▂▂▇▄▂▂▂▂▂▂▅▅▂▃▂▂▂▂▃▂▁▁▁▁▁▁</td></tr></table><br/></div><div class=\"wandb-col\"><h3>Run summary:</h3><br/><table class=\"wandb\"><tr><td>Epoch</td><td>25</td></tr><tr><td>Fold</td><td>5</td></tr><tr><td>Train loss</td><td>0.00885</td></tr><tr><td>Validation Loss</td><td>0.00175</td></tr></table><br/></div></div>"
            ]
          },
          "metadata": {}
        },
        {
          "output_type": "display_data",
          "data": {
            "text/plain": [
              "<IPython.core.display.HTML object>"
            ],
            "text/html": [
              " View run <strong style=\"color:#cdcd00\">fiery-resonance-76</strong> at: <a href='https://wandb.ai/vcadillo/House/runs/e9zuu51l' target=\"_blank\">https://wandb.ai/vcadillo/House/runs/e9zuu51l</a><br/>Synced 5 W&B file(s), 0 media file(s), 0 artifact file(s) and 0 other file(s)"
            ]
          },
          "metadata": {}
        },
        {
          "output_type": "display_data",
          "data": {
            "text/plain": [
              "<IPython.core.display.HTML object>"
            ],
            "text/html": [
              "Find logs at: <code>./wandb/run-20230318_223318-e9zuu51l/logs</code>"
            ]
          },
          "metadata": {}
        },
        {
          "output_type": "display_data",
          "data": {
            "text/plain": [
              "<IPython.core.display.HTML object>"
            ],
            "text/html": [
              "Successfully finished last run (ID:e9zuu51l). Initializing new run:<br/>"
            ]
          },
          "metadata": {}
        },
        {
          "output_type": "display_data",
          "data": {
            "text/plain": [
              "<IPython.core.display.HTML object>"
            ],
            "text/html": [
              "Tracking run with wandb version 0.14.0"
            ]
          },
          "metadata": {}
        },
        {
          "output_type": "display_data",
          "data": {
            "text/plain": [
              "<IPython.core.display.HTML object>"
            ],
            "text/html": [
              "Run data is saved locally in <code>/content/wandb/run-20230318_232904-oe9eteuc</code>"
            ]
          },
          "metadata": {}
        },
        {
          "output_type": "display_data",
          "data": {
            "text/plain": [
              "<IPython.core.display.HTML object>"
            ],
            "text/html": [
              "Syncing run <strong><a href='https://wandb.ai/vcadillo/House/runs/oe9eteuc' target=\"_blank\">fiery-firebrand-77</a></strong> to <a href='https://wandb.ai/vcadillo/House' target=\"_blank\">Weights & Biases</a> (<a href='https://wandb.me/run' target=\"_blank\">docs</a>)<br/>"
            ]
          },
          "metadata": {}
        },
        {
          "output_type": "display_data",
          "data": {
            "text/plain": [
              "<IPython.core.display.HTML object>"
            ],
            "text/html": [
              " View project at <a href='https://wandb.ai/vcadillo/House' target=\"_blank\">https://wandb.ai/vcadillo/House</a>"
            ]
          },
          "metadata": {}
        },
        {
          "output_type": "display_data",
          "data": {
            "text/plain": [
              "<IPython.core.display.HTML object>"
            ],
            "text/html": [
              " View run at <a href='https://wandb.ai/vcadillo/House/runs/oe9eteuc' target=\"_blank\">https://wandb.ai/vcadillo/House/runs/oe9eteuc</a>"
            ]
          },
          "metadata": {}
        },
        {
          "output_type": "stream",
          "name": "stdout",
          "text": [
            "Fold 1\n",
            "Epoch 1: train_loss=0.1719, val_loss=0.0187\n",
            "Epoch 2: train_loss=0.1473, val_loss=0.0163\n",
            "Epoch 3: train_loss=0.1488, val_loss=0.0155\n",
            "Epoch 4: train_loss=0.1201, val_loss=0.0249\n",
            "Epoch 5: train_loss=0.1097, val_loss=0.0224\n",
            "Epoch 6: train_loss=0.0865, val_loss=0.0206\n",
            "Epoch 7: train_loss=0.0902, val_loss=0.0219\n",
            "Epoch 8: train_loss=0.0918, val_loss=0.0274\n",
            "Epoch 9: train_loss=0.0843, val_loss=0.0339\n",
            "Epoch 10: train_loss=0.0725, val_loss=0.0320\n",
            "Epoch 11: train_loss=0.0704, val_loss=0.0311\n",
            "Epoch 12: train_loss=0.0705, val_loss=0.0268\n",
            "Epoch 13: train_loss=0.0694, val_loss=0.0235\n",
            "Epoch 14: train_loss=0.0699, val_loss=0.0257\n",
            "Epoch 15: train_loss=0.0678, val_loss=0.0245\n",
            "Epoch 16: train_loss=0.0527, val_loss=0.0243\n",
            "Epoch 17: train_loss=0.0598, val_loss=0.0233\n",
            "Epoch 18: train_loss=0.0677, val_loss=0.0225\n",
            "Epoch 19: train_loss=0.0511, val_loss=0.0242\n",
            "Epoch 20: train_loss=0.0483, val_loss=0.0205\n",
            "Epoch 21: train_loss=0.0514, val_loss=0.0190\n",
            "Epoch 22: train_loss=0.0455, val_loss=0.0199\n",
            "Epoch 23: train_loss=0.0499, val_loss=0.0190\n",
            "Epoch 24: train_loss=0.0495, val_loss=0.0183\n",
            "Epoch 25: train_loss=0.0493, val_loss=0.0160\n",
            "Fold 2\n",
            "Epoch 1: train_loss=0.1413, val_loss=0.0387\n",
            "Epoch 2: train_loss=0.1368, val_loss=0.0382\n",
            "Epoch 3: train_loss=0.1249, val_loss=0.0370\n",
            "Epoch 4: train_loss=0.1089, val_loss=0.0284\n",
            "Epoch 5: train_loss=0.0888, val_loss=0.0317\n",
            "Epoch 6: train_loss=0.0877, val_loss=0.0369\n",
            "Epoch 7: train_loss=0.0878, val_loss=0.0365\n",
            "Epoch 8: train_loss=0.0750, val_loss=0.0369\n",
            "Epoch 9: train_loss=0.0739, val_loss=0.0437\n",
            "Epoch 10: train_loss=0.0566, val_loss=0.0266\n",
            "Epoch 11: train_loss=0.0683, val_loss=0.0237\n",
            "Epoch 12: train_loss=0.0580, val_loss=0.0246\n",
            "Epoch 13: train_loss=0.0564, val_loss=0.0253\n",
            "Epoch 14: train_loss=0.0536, val_loss=0.0223\n",
            "Epoch 15: train_loss=0.0641, val_loss=0.0235\n",
            "Epoch 16: train_loss=0.0493, val_loss=0.0224\n",
            "Epoch 17: train_loss=0.0444, val_loss=0.0212\n",
            "Epoch 18: train_loss=0.0480, val_loss=0.0207\n",
            "Epoch 19: train_loss=0.0448, val_loss=0.0210\n",
            "Epoch 20: train_loss=0.0364, val_loss=0.0201\n",
            "Epoch 21: train_loss=0.0447, val_loss=0.0179\n",
            "Epoch 22: train_loss=0.0434, val_loss=0.0174\n",
            "Epoch 23: train_loss=0.0354, val_loss=0.0184\n",
            "Epoch 24: train_loss=0.0435, val_loss=0.0177\n",
            "Epoch 25: train_loss=0.0391, val_loss=0.0138\n",
            "Fold 3\n",
            "Epoch 1: train_loss=0.1560, val_loss=0.0081\n",
            "Epoch 2: train_loss=0.1396, val_loss=0.0110\n",
            "Epoch 3: train_loss=0.1414, val_loss=0.0103\n",
            "Epoch 4: train_loss=0.1038, val_loss=0.0171\n",
            "Epoch 5: train_loss=0.1086, val_loss=0.0217\n",
            "Epoch 6: train_loss=0.0936, val_loss=0.0282\n",
            "Epoch 7: train_loss=0.0856, val_loss=0.0319\n",
            "Epoch 8: train_loss=0.0887, val_loss=0.0345\n",
            "Epoch 9: train_loss=0.0643, val_loss=0.0385\n",
            "Epoch 10: train_loss=0.0672, val_loss=0.0335\n",
            "Epoch 11: train_loss=0.0684, val_loss=0.0287\n",
            "Epoch 12: train_loss=0.0634, val_loss=0.0271\n",
            "Epoch 13: train_loss=0.0680, val_loss=0.0225\n",
            "Epoch 14: train_loss=0.0576, val_loss=0.0189\n",
            "Epoch 15: train_loss=0.0593, val_loss=0.0183\n",
            "Epoch 16: train_loss=0.0584, val_loss=0.0198\n",
            "Epoch 17: train_loss=0.0542, val_loss=0.0199\n",
            "Epoch 18: train_loss=0.0573, val_loss=0.0208\n",
            "Epoch 19: train_loss=0.0451, val_loss=0.0203\n",
            "Epoch 20: train_loss=0.0498, val_loss=0.0188\n",
            "Epoch 21: train_loss=0.0443, val_loss=0.0174\n",
            "Epoch 22: train_loss=0.0477, val_loss=0.0193\n",
            "Epoch 23: train_loss=0.0432, val_loss=0.0167\n",
            "Epoch 24: train_loss=0.0432, val_loss=0.0184\n",
            "Epoch 25: train_loss=0.0432, val_loss=0.0134\n",
            "Fold 4\n",
            "Epoch 1: train_loss=0.1638, val_loss=0.0130\n",
            "Epoch 2: train_loss=0.1541, val_loss=0.0154\n",
            "Epoch 3: train_loss=0.1275, val_loss=0.0182\n",
            "Epoch 4: train_loss=0.1064, val_loss=0.0218\n",
            "Epoch 5: train_loss=0.1034, val_loss=0.0277\n",
            "Epoch 6: train_loss=0.0879, val_loss=0.0289\n",
            "Epoch 7: train_loss=0.0846, val_loss=0.0307\n",
            "Epoch 8: train_loss=0.0837, val_loss=0.0290\n",
            "Epoch 9: train_loss=0.0737, val_loss=0.0324\n",
            "Epoch 10: train_loss=0.0773, val_loss=0.0291\n",
            "Epoch 11: train_loss=0.0698, val_loss=0.0330\n",
            "Epoch 12: train_loss=0.0723, val_loss=0.0339\n",
            "Epoch 13: train_loss=0.0647, val_loss=0.0355\n",
            "Epoch 14: train_loss=0.0669, val_loss=0.0341\n",
            "Epoch 15: train_loss=0.0628, val_loss=0.0322\n",
            "Epoch 16: train_loss=0.0586, val_loss=0.0304\n",
            "Epoch 17: train_loss=0.0529, val_loss=0.0323\n",
            "Epoch 18: train_loss=0.0551, val_loss=0.0248\n",
            "Epoch 19: train_loss=0.0492, val_loss=0.0237\n",
            "Epoch 20: train_loss=0.0574, val_loss=0.0245\n",
            "Epoch 21: train_loss=0.0511, val_loss=0.0219\n",
            "Epoch 22: train_loss=0.0544, val_loss=0.0195\n",
            "Epoch 23: train_loss=0.0468, val_loss=0.0215\n",
            "Epoch 24: train_loss=0.0452, val_loss=0.0248\n",
            "Epoch 25: train_loss=0.0443, val_loss=0.0216\n",
            "Fold 5\n",
            "Epoch 1: train_loss=0.1198, val_loss=0.0361\n",
            "Epoch 2: train_loss=0.1165, val_loss=0.0293\n",
            "Epoch 3: train_loss=0.1017, val_loss=0.0300\n",
            "Epoch 4: train_loss=0.0826, val_loss=0.0424\n",
            "Epoch 5: train_loss=0.0784, val_loss=0.0389\n",
            "Epoch 6: train_loss=0.0709, val_loss=0.0324\n",
            "Epoch 7: train_loss=0.0736, val_loss=0.0281\n",
            "Epoch 8: train_loss=0.0659, val_loss=0.0236\n",
            "Epoch 9: train_loss=0.0645, val_loss=0.0215\n",
            "Epoch 10: train_loss=0.0661, val_loss=0.0186\n",
            "Epoch 11: train_loss=0.0599, val_loss=0.0176\n",
            "Epoch 12: train_loss=0.0613, val_loss=0.0182\n",
            "Epoch 13: train_loss=0.0518, val_loss=0.0252\n",
            "Epoch 14: train_loss=0.0509, val_loss=0.0187\n",
            "Epoch 15: train_loss=0.0496, val_loss=0.0154\n",
            "Epoch 16: train_loss=0.0445, val_loss=0.0146\n",
            "Epoch 17: train_loss=0.0417, val_loss=0.0140\n",
            "Epoch 18: train_loss=0.0495, val_loss=0.0146\n",
            "Epoch 19: train_loss=0.0473, val_loss=0.0152\n",
            "Epoch 20: train_loss=0.0440, val_loss=0.0134\n",
            "Epoch 21: train_loss=0.0374, val_loss=0.0131\n",
            "Epoch 22: train_loss=0.0356, val_loss=0.0142\n",
            "Epoch 23: train_loss=0.0353, val_loss=0.0141\n",
            "Epoch 24: train_loss=0.0385, val_loss=0.0120\n",
            "Epoch 25: train_loss=0.0291, val_loss=0.0121\n"
          ]
        }
      ]
    },
    {
      "cell_type": "code",
      "source": [
        "# ENSEMBLE MODEL KFOLD \n",
        "run('ensemble', X,y, num_epochs = 25, batch_size = 64, num_folds = 5)"
      ],
      "metadata": {
        "colab": {
          "base_uri": "https://localhost:8080/",
          "height": 1000,
          "referenced_widgets": [
            "3ac1e226c9db426db32b2abb3c7ca9cc",
            "2c4edee31c404a85bd5092d5151bebf3",
            "2dbca39cd2ea404da8ca9c131812ac6b",
            "be677c827bb449a99371838b0d6341bd",
            "86382da96866402db991fda5ac929f82",
            "c0109a0bf86a4863bf6cb0be14d007b2",
            "eedc0a6b37ca46c4b3398389a4525d48",
            "0e455c30230a493fb4ff0ef0bbbcb284"
          ]
        },
        "id": "6UgWcSLfvfbF",
        "outputId": "ce988759-85fc-40ce-d1ef-d231a09395ae"
      },
      "execution_count": null,
      "outputs": [
        {
          "output_type": "display_data",
          "data": {
            "text/plain": [
              "<IPython.core.display.HTML object>"
            ],
            "text/html": [
              "Finishing last run (ID:ufgnxwq0) before initializing another..."
            ]
          },
          "metadata": {}
        },
        {
          "output_type": "display_data",
          "data": {
            "text/plain": [
              "<IPython.core.display.HTML object>"
            ],
            "text/html": [
              "Waiting for W&B process to finish... <strong style=\"color:green\">(success).</strong>"
            ]
          },
          "metadata": {}
        },
        {
          "output_type": "display_data",
          "data": {
            "text/plain": [
              "VBox(children=(Label(value='0.001 MB of 0.001 MB uploaded (0.000 MB deduped)\\r'), FloatProgress(value=1.0, max…"
            ],
            "application/vnd.jupyter.widget-view+json": {
              "version_major": 2,
              "version_minor": 0,
              "model_id": "3ac1e226c9db426db32b2abb3c7ca9cc"
            }
          },
          "metadata": {}
        },
        {
          "output_type": "display_data",
          "data": {
            "text/plain": [
              "<IPython.core.display.HTML object>"
            ],
            "text/html": [
              "<style>\n",
              "    table.wandb td:nth-child(1) { padding: 0 10px; text-align: left ; width: auto;} td:nth-child(2) {text-align: left ; width: 100%}\n",
              "    .wandb-row { display: flex; flex-direction: row; flex-wrap: wrap; justify-content: flex-start; width: 100% }\n",
              "    .wandb-col { display: flex; flex-direction: column; flex-basis: 100%; flex: 1; padding: 10px; }\n",
              "    </style>\n",
              "<div class=\"wandb-row\"><div class=\"wandb-col\"><h3>Run history:</h3><br/><table class=\"wandb\"><tr><td>Epoch</td><td>▁▂▃▄▅▆▇█▁▂▃▄▅▆▇█▁▂▃▄▅▆▇█▁▂▃▄▅▆▇█▁▂▃▄▅▆▇█</td></tr><tr><td>Fold</td><td>▁▁▁▁▁▁▁▁▃▃▃▃▃▃▃▃▅▅▅▅▅▅▅▅▆▆▆▆▆▆▆▆████████</td></tr><tr><td>Train loss</td><td>▄▂▂▁▂▁▁▁▆▃▂▂▁▁▁▁█▄▂▂▂▁▂▁▄▃▂▂▁▁▁▁▃▂▂▂▁▁▁▁</td></tr><tr><td>Validation Loss</td><td>▁▄▃▃▃▃▄▂▄▆▃▂▂▂▂▂▄█▄▂▂▂▂▁▂▃▂▃▁▂▂▂▂▂▂▅▂▁▁▁</td></tr></table><br/></div><div class=\"wandb-col\"><h3>Run summary:</h3><br/><table class=\"wandb\"><tr><td>Epoch</td><td>25</td></tr><tr><td>Fold</td><td>5</td></tr><tr><td>Train loss</td><td>0.0354</td></tr><tr><td>Validation Loss</td><td>0.00983</td></tr></table><br/></div></div>"
            ]
          },
          "metadata": {}
        },
        {
          "output_type": "display_data",
          "data": {
            "text/plain": [
              "<IPython.core.display.HTML object>"
            ],
            "text/html": [
              " View run <strong style=\"color:#cdcd00\">lunar-salad-75</strong> at: <a href='https://wandb.ai/vcadillo/House/runs/ufgnxwq0' target=\"_blank\">https://wandb.ai/vcadillo/House/runs/ufgnxwq0</a><br/>Synced 5 W&B file(s), 0 media file(s), 0 artifact file(s) and 0 other file(s)"
            ]
          },
          "metadata": {}
        },
        {
          "output_type": "display_data",
          "data": {
            "text/plain": [
              "<IPython.core.display.HTML object>"
            ],
            "text/html": [
              "Find logs at: <code>./wandb/run-20230318_223203-ufgnxwq0/logs</code>"
            ]
          },
          "metadata": {}
        },
        {
          "output_type": "display_data",
          "data": {
            "text/plain": [
              "<IPython.core.display.HTML object>"
            ],
            "text/html": [
              "Successfully finished last run (ID:ufgnxwq0). Initializing new run:<br/>"
            ]
          },
          "metadata": {}
        },
        {
          "output_type": "display_data",
          "data": {
            "text/plain": [
              "<IPython.core.display.HTML object>"
            ],
            "text/html": [
              "Tracking run with wandb version 0.14.0"
            ]
          },
          "metadata": {}
        },
        {
          "output_type": "display_data",
          "data": {
            "text/plain": [
              "<IPython.core.display.HTML object>"
            ],
            "text/html": [
              "Run data is saved locally in <code>/content/wandb/run-20230318_223318-e9zuu51l</code>"
            ]
          },
          "metadata": {}
        },
        {
          "output_type": "display_data",
          "data": {
            "text/plain": [
              "<IPython.core.display.HTML object>"
            ],
            "text/html": [
              "Syncing run <strong><a href='https://wandb.ai/vcadillo/House/runs/e9zuu51l' target=\"_blank\">fiery-resonance-76</a></strong> to <a href='https://wandb.ai/vcadillo/House' target=\"_blank\">Weights & Biases</a> (<a href='https://wandb.me/run' target=\"_blank\">docs</a>)<br/>"
            ]
          },
          "metadata": {}
        },
        {
          "output_type": "display_data",
          "data": {
            "text/plain": [
              "<IPython.core.display.HTML object>"
            ],
            "text/html": [
              " View project at <a href='https://wandb.ai/vcadillo/House' target=\"_blank\">https://wandb.ai/vcadillo/House</a>"
            ]
          },
          "metadata": {}
        },
        {
          "output_type": "display_data",
          "data": {
            "text/plain": [
              "<IPython.core.display.HTML object>"
            ],
            "text/html": [
              " View run at <a href='https://wandb.ai/vcadillo/House/runs/e9zuu51l' target=\"_blank\">https://wandb.ai/vcadillo/House/runs/e9zuu51l</a>"
            ]
          },
          "metadata": {}
        },
        {
          "output_type": "stream",
          "name": "stderr",
          "text": [
            "/usr/local/lib/python3.9/dist-packages/torchvision/models/_utils.py:208: UserWarning: The parameter 'pretrained' is deprecated since 0.13 and may be removed in the future, please use 'weights' instead.\n",
            "  warnings.warn(\n",
            "/usr/local/lib/python3.9/dist-packages/torchvision/models/_utils.py:223: UserWarning: Arguments other than a weight enum or `None` for 'weights' are deprecated since 0.13 and may be removed in the future. The current behavior is equivalent to passing `weights=EfficientNet_V2_S_Weights.IMAGENET1K_V1`. You can also use `weights=EfficientNet_V2_S_Weights.DEFAULT` to get the most up-to-date weights.\n",
            "  warnings.warn(msg)\n"
          ]
        },
        {
          "output_type": "stream",
          "name": "stdout",
          "text": [
            "Fold 1\n",
            "Epoch 1: train_loss=0.0663, val_loss=0.0203\n",
            "Epoch 2: train_loss=0.0540, val_loss=0.0229\n",
            "Epoch 3: train_loss=0.0508, val_loss=0.0192\n",
            "Epoch 4: train_loss=0.0311, val_loss=0.0155\n",
            "Epoch 5: train_loss=0.0283, val_loss=0.0172\n",
            "Epoch 6: train_loss=0.0233, val_loss=0.0139\n",
            "Epoch 7: train_loss=0.0206, val_loss=0.0107\n",
            "Epoch 8: train_loss=0.0173, val_loss=0.0062\n",
            "Epoch 9: train_loss=0.0203, val_loss=0.0059\n",
            "Epoch 10: train_loss=0.0182, val_loss=0.0057\n",
            "Epoch 11: train_loss=0.0186, val_loss=0.0055\n",
            "Epoch 12: train_loss=0.0141, val_loss=0.0057\n",
            "Epoch 13: train_loss=0.0136, val_loss=0.0070\n",
            "Epoch 14: train_loss=0.0146, val_loss=0.0051\n",
            "Epoch 15: train_loss=0.0128, val_loss=0.0042\n",
            "Epoch 16: train_loss=0.0129, val_loss=0.0056\n",
            "Epoch 17: train_loss=0.0153, val_loss=0.0062\n",
            "Epoch 18: train_loss=0.0127, val_loss=0.0047\n",
            "Epoch 19: train_loss=0.0122, val_loss=0.0040\n",
            "Epoch 20: train_loss=0.0124, val_loss=0.0037\n",
            "Epoch 21: train_loss=0.0109, val_loss=0.0051\n",
            "Epoch 22: train_loss=0.0109, val_loss=0.0036\n",
            "Epoch 23: train_loss=0.0131, val_loss=0.0048\n",
            "Epoch 24: train_loss=0.0104, val_loss=0.0041\n",
            "Epoch 25: train_loss=0.0110, val_loss=0.0047\n",
            "Fold 2\n",
            "Epoch 1: train_loss=0.0797, val_loss=0.0384\n",
            "Epoch 2: train_loss=0.0607, val_loss=0.0215\n",
            "Epoch 3: train_loss=0.0446, val_loss=0.0209\n",
            "Epoch 4: train_loss=0.0257, val_loss=0.0134\n",
            "Epoch 5: train_loss=0.0212, val_loss=0.0084\n",
            "Epoch 6: train_loss=0.0242, val_loss=0.0061\n",
            "Epoch 7: train_loss=0.0244, val_loss=0.0054\n",
            "Epoch 8: train_loss=0.0211, val_loss=0.0075\n",
            "Epoch 9: train_loss=0.0184, val_loss=0.0086\n",
            "Epoch 10: train_loss=0.0189, val_loss=0.0079\n",
            "Epoch 11: train_loss=0.0170, val_loss=0.0060\n",
            "Epoch 12: train_loss=0.0142, val_loss=0.0063\n",
            "Epoch 13: train_loss=0.0130, val_loss=0.0059\n",
            "Epoch 14: train_loss=0.0172, val_loss=0.0066\n",
            "Epoch 15: train_loss=0.0147, val_loss=0.0065\n",
            "Epoch 16: train_loss=0.0149, val_loss=0.0057\n",
            "Epoch 17: train_loss=0.0140, val_loss=0.0059\n",
            "Epoch 18: train_loss=0.0109, val_loss=0.0065\n",
            "Epoch 19: train_loss=0.0107, val_loss=0.0059\n",
            "Epoch 20: train_loss=0.0100, val_loss=0.0061\n",
            "Epoch 21: train_loss=0.0115, val_loss=0.0046\n",
            "Epoch 22: train_loss=0.0091, val_loss=0.0048\n",
            "Epoch 23: train_loss=0.0090, val_loss=0.0055\n",
            "Epoch 24: train_loss=0.0086, val_loss=0.0058\n",
            "Epoch 25: train_loss=0.0088, val_loss=0.0058\n",
            "Fold 3\n",
            "Epoch 1: train_loss=0.0814, val_loss=0.0306\n",
            "Epoch 2: train_loss=0.0477, val_loss=0.0219\n",
            "Epoch 3: train_loss=0.0352, val_loss=0.0235\n",
            "Epoch 4: train_loss=0.0272, val_loss=0.0249\n",
            "Epoch 5: train_loss=0.0215, val_loss=0.0189\n",
            "Epoch 6: train_loss=0.0280, val_loss=0.0142\n",
            "Epoch 7: train_loss=0.0183, val_loss=0.0107\n",
            "Epoch 8: train_loss=0.0160, val_loss=0.0089\n",
            "Epoch 9: train_loss=0.0193, val_loss=0.0078\n",
            "Epoch 10: train_loss=0.0158, val_loss=0.0079\n",
            "Epoch 11: train_loss=0.0133, val_loss=0.0077\n",
            "Epoch 12: train_loss=0.0149, val_loss=0.0062\n",
            "Epoch 13: train_loss=0.0132, val_loss=0.0061\n",
            "Epoch 14: train_loss=0.0132, val_loss=0.0065\n",
            "Epoch 15: train_loss=0.0130, val_loss=0.0068\n",
            "Epoch 16: train_loss=0.0140, val_loss=0.0074\n",
            "Epoch 17: train_loss=0.0104, val_loss=0.0059\n",
            "Epoch 18: train_loss=0.0110, val_loss=0.0065\n",
            "Epoch 19: train_loss=0.0109, val_loss=0.0066\n",
            "Epoch 20: train_loss=0.0101, val_loss=0.0064\n",
            "Epoch 21: train_loss=0.0108, val_loss=0.0068\n",
            "Epoch 22: train_loss=0.0106, val_loss=0.0064\n",
            "Epoch 23: train_loss=0.0102, val_loss=0.0054\n",
            "Epoch 24: train_loss=0.0104, val_loss=0.0066\n",
            "Epoch 25: train_loss=0.0086, val_loss=0.0054\n",
            "Fold 4\n",
            "Epoch 1: train_loss=0.0917, val_loss=0.0263\n",
            "Epoch 2: train_loss=0.0559, val_loss=0.0207\n",
            "Epoch 3: train_loss=0.0441, val_loss=0.0233\n",
            "Epoch 4: train_loss=0.0292, val_loss=0.0247\n",
            "Epoch 5: train_loss=0.0251, val_loss=0.0214\n",
            "Epoch 6: train_loss=0.0184, val_loss=0.0121\n",
            "Epoch 7: train_loss=0.0168, val_loss=0.0145\n",
            "Epoch 8: train_loss=0.0155, val_loss=0.0094\n",
            "Epoch 9: train_loss=0.0150, val_loss=0.0096\n",
            "Epoch 10: train_loss=0.0155, val_loss=0.0096\n",
            "Epoch 11: train_loss=0.0139, val_loss=0.0131\n",
            "Epoch 12: train_loss=0.0123, val_loss=0.0088\n",
            "Epoch 13: train_loss=0.0108, val_loss=0.0089\n",
            "Epoch 14: train_loss=0.0120, val_loss=0.0093\n",
            "Epoch 15: train_loss=0.0128, val_loss=0.0089\n",
            "Epoch 16: train_loss=0.0107, val_loss=0.0089\n",
            "Epoch 17: train_loss=0.0126, val_loss=0.0125\n",
            "Epoch 18: train_loss=0.0099, val_loss=0.0094\n",
            "Epoch 19: train_loss=0.0095, val_loss=0.0089\n",
            "Epoch 20: train_loss=0.0104, val_loss=0.0084\n",
            "Epoch 21: train_loss=0.0102, val_loss=0.0089\n",
            "Epoch 22: train_loss=0.0095, val_loss=0.0095\n",
            "Epoch 23: train_loss=0.0089, val_loss=0.0085\n",
            "Epoch 24: train_loss=0.0085, val_loss=0.0093\n",
            "Epoch 25: train_loss=0.0095, val_loss=0.0091\n",
            "Fold 5\n",
            "Epoch 1: train_loss=0.0726, val_loss=0.0174\n",
            "Epoch 2: train_loss=0.0591, val_loss=0.0131\n",
            "Epoch 3: train_loss=0.0411, val_loss=0.0092\n",
            "Epoch 4: train_loss=0.0301, val_loss=0.0071\n",
            "Epoch 5: train_loss=0.0217, val_loss=0.0080\n",
            "Epoch 6: train_loss=0.0162, val_loss=0.0039\n",
            "Epoch 7: train_loss=0.0207, val_loss=0.0043\n",
            "Epoch 8: train_loss=0.0169, val_loss=0.0040\n",
            "Epoch 9: train_loss=0.0149, val_loss=0.0042\n",
            "Epoch 10: train_loss=0.0168, val_loss=0.0045\n",
            "Epoch 11: train_loss=0.0145, val_loss=0.0038\n",
            "Epoch 12: train_loss=0.0145, val_loss=0.0033\n",
            "Epoch 13: train_loss=0.0134, val_loss=0.0033\n",
            "Epoch 14: train_loss=0.0129, val_loss=0.0033\n",
            "Epoch 15: train_loss=0.0123, val_loss=0.0037\n",
            "Epoch 16: train_loss=0.0131, val_loss=0.0028\n",
            "Epoch 17: train_loss=0.0120, val_loss=0.0033\n",
            "Epoch 18: train_loss=0.0115, val_loss=0.0023\n",
            "Epoch 19: train_loss=0.0125, val_loss=0.0030\n",
            "Epoch 20: train_loss=0.0105, val_loss=0.0024\n",
            "Epoch 21: train_loss=0.0101, val_loss=0.0022\n",
            "Epoch 22: train_loss=0.0105, val_loss=0.0021\n",
            "Epoch 23: train_loss=0.0096, val_loss=0.0024\n",
            "Epoch 24: train_loss=0.0090, val_loss=0.0019\n",
            "Epoch 25: train_loss=0.0088, val_loss=0.0017\n"
          ]
        }
      ]
    },
    {
      "cell_type": "code",
      "source": [
        "# META DATA NO KFOLD\n",
        "run('meta', X,y, num_epochs = 100, batch_size = 64, num_folds = 0)"
      ],
      "metadata": {
        "id": "UzQsTIHjvg7W",
        "colab": {
          "base_uri": "https://localhost:8080/",
          "height": 1000
        },
        "outputId": "d615e78e-a8b0-411e-b7d8-1b5f8bdd8f91"
      },
      "execution_count": null,
      "outputs": [
        {
          "output_type": "stream",
          "name": "stderr",
          "text": [
            "\u001b[34m\u001b[1mwandb\u001b[0m: Currently logged in as: \u001b[33mvcadillo\u001b[0m. Use \u001b[1m`wandb login --relogin`\u001b[0m to force relogin\n"
          ]
        },
        {
          "output_type": "display_data",
          "data": {
            "text/plain": [
              "<IPython.core.display.HTML object>"
            ],
            "text/html": [
              "Tracking run with wandb version 0.14.0"
            ]
          },
          "metadata": {}
        },
        {
          "output_type": "display_data",
          "data": {
            "text/plain": [
              "<IPython.core.display.HTML object>"
            ],
            "text/html": [
              "Run data is saved locally in <code>/content/wandb/run-20230319_013214-l7o9sxdm</code>"
            ]
          },
          "metadata": {}
        },
        {
          "output_type": "display_data",
          "data": {
            "text/plain": [
              "<IPython.core.display.HTML object>"
            ],
            "text/html": [
              "Syncing run <strong><a href='https://wandb.ai/vcadillo/House/runs/l7o9sxdm' target=\"_blank\">fiery-lake-83</a></strong> to <a href='https://wandb.ai/vcadillo/House' target=\"_blank\">Weights & Biases</a> (<a href='https://wandb.me/run' target=\"_blank\">docs</a>)<br/>"
            ]
          },
          "metadata": {}
        },
        {
          "output_type": "display_data",
          "data": {
            "text/plain": [
              "<IPython.core.display.HTML object>"
            ],
            "text/html": [
              " View project at <a href='https://wandb.ai/vcadillo/House' target=\"_blank\">https://wandb.ai/vcadillo/House</a>"
            ]
          },
          "metadata": {}
        },
        {
          "output_type": "display_data",
          "data": {
            "text/plain": [
              "<IPython.core.display.HTML object>"
            ],
            "text/html": [
              " View run at <a href='https://wandb.ai/vcadillo/House/runs/l7o9sxdm' target=\"_blank\">https://wandb.ai/vcadillo/House/runs/l7o9sxdm</a>"
            ]
          },
          "metadata": {}
        },
        {
          "output_type": "stream",
          "name": "stdout",
          "text": [
            "Epoch 1: train_loss=0.1615, val_loss=0.0404\n",
            "Epoch 2: train_loss=0.1144, val_loss=0.0517\n",
            "Epoch 3: train_loss=0.0957, val_loss=0.0525\n",
            "Epoch 4: train_loss=0.0777, val_loss=0.0565\n",
            "Epoch 5: train_loss=0.0771, val_loss=0.0714\n",
            "Epoch 6: train_loss=0.0829, val_loss=0.0561\n",
            "Epoch 7: train_loss=0.0676, val_loss=0.0434\n",
            "Epoch 8: train_loss=0.0662, val_loss=0.0369\n",
            "Epoch 9: train_loss=0.0789, val_loss=0.0244\n",
            "Epoch 10: train_loss=0.0678, val_loss=0.0203\n",
            "Epoch 11: train_loss=0.0766, val_loss=0.0233\n",
            "Epoch 12: train_loss=0.0642, val_loss=0.0281\n",
            "Epoch 13: train_loss=0.0557, val_loss=0.0260\n",
            "Epoch 14: train_loss=0.0437, val_loss=0.0218\n",
            "Epoch 15: train_loss=0.0518, val_loss=0.0138\n",
            "Epoch 16: train_loss=0.0501, val_loss=0.0123\n",
            "Epoch 17: train_loss=0.0445, val_loss=0.0113\n",
            "Epoch 18: train_loss=0.0486, val_loss=0.0159\n",
            "Epoch 19: train_loss=0.0553, val_loss=0.0154\n",
            "Epoch 20: train_loss=0.0551, val_loss=0.0159\n",
            "Epoch 21: train_loss=0.0497, val_loss=0.0110\n",
            "Epoch 22: train_loss=0.0395, val_loss=0.0147\n",
            "Epoch 23: train_loss=0.0509, val_loss=0.0128\n",
            "Epoch 24: train_loss=0.0462, val_loss=0.0161\n",
            "Epoch 25: train_loss=0.0435, val_loss=0.0090\n",
            "Epoch 26: train_loss=0.0485, val_loss=0.0100\n",
            "Epoch 27: train_loss=0.0396, val_loss=0.0103\n",
            "Epoch 28: train_loss=0.0518, val_loss=0.0092\n",
            "Epoch 29: train_loss=0.0424, val_loss=0.0100\n",
            "Epoch 30: train_loss=0.0406, val_loss=0.0089\n",
            "Epoch 31: train_loss=0.0391, val_loss=0.0114\n",
            "Epoch 32: train_loss=0.0397, val_loss=0.0066\n",
            "Epoch 33: train_loss=0.0368, val_loss=0.0067\n",
            "Epoch 34: train_loss=0.0366, val_loss=0.0069\n",
            "Epoch 35: train_loss=0.0398, val_loss=0.0081\n",
            "Epoch 36: train_loss=0.0381, val_loss=0.0105\n",
            "Epoch 37: train_loss=0.0373, val_loss=0.0090\n",
            "Epoch 38: train_loss=0.0410, val_loss=0.0104\n",
            "Epoch 39: train_loss=0.0367, val_loss=0.0144\n",
            "Epoch 40: train_loss=0.0300, val_loss=0.0072\n",
            "Epoch 41: train_loss=0.0327, val_loss=0.0067\n",
            "Epoch 42: train_loss=0.0293, val_loss=0.0056\n",
            "Epoch 43: train_loss=0.0344, val_loss=0.0056\n",
            "Epoch 44: train_loss=0.0318, val_loss=0.0062\n",
            "Epoch 45: train_loss=0.0382, val_loss=0.0072\n",
            "Epoch 46: train_loss=0.0318, val_loss=0.0080\n",
            "Epoch 47: train_loss=0.0329, val_loss=0.0085\n",
            "Epoch 48: train_loss=0.0326, val_loss=0.0064\n",
            "Epoch 49: train_loss=0.0266, val_loss=0.0055\n",
            "Epoch 50: train_loss=0.0296, val_loss=0.0057\n",
            "Epoch 51: train_loss=0.0342, val_loss=0.0091\n",
            "Epoch 52: train_loss=0.0270, val_loss=0.0063\n",
            "Epoch 53: train_loss=0.0311, val_loss=0.0071\n",
            "Epoch 54: train_loss=0.0278, val_loss=0.0102\n",
            "Epoch 55: train_loss=0.0263, val_loss=0.0083\n",
            "Epoch 56: train_loss=0.0344, val_loss=0.0077\n",
            "Epoch 57: train_loss=0.0268, val_loss=0.0059\n",
            "Epoch 58: train_loss=0.0343, val_loss=0.0055\n",
            "Epoch 59: train_loss=0.0331, val_loss=0.0041\n",
            "Epoch 60: train_loss=0.0353, val_loss=0.0062\n",
            "Epoch 61: train_loss=0.0310, val_loss=0.0065\n",
            "Epoch 62: train_loss=0.0303, val_loss=0.0072\n",
            "Epoch 63: train_loss=0.0226, val_loss=0.0075\n",
            "Epoch 64: train_loss=0.0307, val_loss=0.0060\n",
            "Epoch 65: train_loss=0.0278, val_loss=0.0085\n",
            "Epoch 66: train_loss=0.0253, val_loss=0.0059\n",
            "Epoch 67: train_loss=0.0282, val_loss=0.0057\n",
            "Epoch 68: train_loss=0.0268, val_loss=0.0059\n",
            "Epoch 69: train_loss=0.0262, val_loss=0.0063\n",
            "Epoch 70: train_loss=0.0271, val_loss=0.0048\n",
            "Epoch 71: train_loss=0.0254, val_loss=0.0035\n",
            "Epoch 72: train_loss=0.0218, val_loss=0.0043\n",
            "Epoch 73: train_loss=0.0298, val_loss=0.0052\n",
            "Epoch 74: train_loss=0.0230, val_loss=0.0041\n",
            "Epoch 75: train_loss=0.0283, val_loss=0.0052\n",
            "Epoch 76: train_loss=0.0238, val_loss=0.0062\n",
            "Epoch 77: train_loss=0.0247, val_loss=0.0053\n",
            "Epoch 78: train_loss=0.0229, val_loss=0.0070\n",
            "Epoch 79: train_loss=0.0251, val_loss=0.0063\n",
            "Epoch 80: train_loss=0.0232, val_loss=0.0052\n",
            "Epoch 81: train_loss=0.0226, val_loss=0.0052\n",
            "Epoch 82: train_loss=0.0227, val_loss=0.0050\n",
            "Epoch 83: train_loss=0.0246, val_loss=0.0040\n",
            "Epoch 84: train_loss=0.0220, val_loss=0.0036\n",
            "Epoch 85: train_loss=0.0207, val_loss=0.0038\n",
            "Epoch 86: train_loss=0.0207, val_loss=0.0049\n",
            "Epoch 87: train_loss=0.0231, val_loss=0.0052\n",
            "Epoch 88: train_loss=0.0173, val_loss=0.0052\n",
            "Epoch 89: train_loss=0.0235, val_loss=0.0058\n",
            "Epoch 90: train_loss=0.0250, val_loss=0.0046\n",
            "Epoch 91: train_loss=0.0214, val_loss=0.0047\n",
            "Epoch 92: train_loss=0.0221, val_loss=0.0046\n",
            "Epoch 93: train_loss=0.0164, val_loss=0.0040\n",
            "Epoch 94: train_loss=0.0162, val_loss=0.0041\n",
            "Epoch 95: train_loss=0.0194, val_loss=0.0043\n",
            "Epoch 96: train_loss=0.0226, val_loss=0.0042\n",
            "Epoch 97: train_loss=0.0207, val_loss=0.0041\n",
            "Epoch 98: train_loss=0.0195, val_loss=0.0056\n",
            "Epoch 99: train_loss=0.0211, val_loss=0.0061\n",
            "Epoch 100: train_loss=0.0199, val_loss=0.0049\n"
          ]
        }
      ]
    },
    {
      "cell_type": "code",
      "source": [
        "# IMAGE DATA NO KFOLD\n",
        "run('image', X,y, num_epochs = 100, batch_size = 64, num_folds = 0)"
      ],
      "metadata": {
        "colab": {
          "base_uri": "https://localhost:8080/",
          "height": 1000,
          "referenced_widgets": [
            "c1950b44fb7d4eb588a048f1a0625039",
            "05873f7eb07d4dfa87e11aa1c6a396ce",
            "9a65b2e3f5be43e58d1e704e7a5b3bd7",
            "2146c10afe894bceaa6379c3430af25c",
            "41608313cc634fc49a7c4854162d2efe",
            "f4d5b5d125974f4ebb3f5c321625f7c3",
            "490fd946af4e46bcbf42f7e386a2efed",
            "153eccbabfac44e0920ceb93af9e9933"
          ]
        },
        "id": "NkHSMZZ0ddgu",
        "outputId": "b19d99f1-9e59-48df-8b8d-88a10aa5affb"
      },
      "execution_count": null,
      "outputs": [
        {
          "output_type": "display_data",
          "data": {
            "text/plain": [
              "<IPython.core.display.HTML object>"
            ],
            "text/html": [
              "Finishing last run (ID:wiwe32fn) before initializing another..."
            ]
          },
          "metadata": {}
        },
        {
          "output_type": "display_data",
          "data": {
            "text/plain": [
              "<IPython.core.display.HTML object>"
            ],
            "text/html": [
              "Waiting for W&B process to finish... <strong style=\"color:green\">(success).</strong>"
            ]
          },
          "metadata": {}
        },
        {
          "output_type": "display_data",
          "data": {
            "text/plain": [
              "VBox(children=(Label(value='0.001 MB of 0.001 MB uploaded (0.000 MB deduped)\\r'), FloatProgress(value=1.0, max…"
            ],
            "application/vnd.jupyter.widget-view+json": {
              "version_major": 2,
              "version_minor": 0,
              "model_id": "c1950b44fb7d4eb588a048f1a0625039"
            }
          },
          "metadata": {}
        },
        {
          "output_type": "display_data",
          "data": {
            "text/plain": [
              "<IPython.core.display.HTML object>"
            ],
            "text/html": [
              "<style>\n",
              "    table.wandb td:nth-child(1) { padding: 0 10px; text-align: left ; width: auto;} td:nth-child(2) {text-align: left ; width: 100%}\n",
              "    .wandb-row { display: flex; flex-direction: row; flex-wrap: wrap; justify-content: flex-start; width: 100% }\n",
              "    .wandb-col { display: flex; flex-direction: column; flex-basis: 100%; flex: 1; padding: 10px; }\n",
              "    </style>\n",
              "<div class=\"wandb-row\"><div class=\"wandb-col\"><h3>Run history:</h3><br/><table class=\"wandb\"><tr><td>Epoch</td><td>▁▁▁▁▂▂▂▂▂▃▃▃▃▃▃▄▄▄▄▄▅▅▅▅▅▅▆▆▆▆▆▇▇▇▇▇▇███</td></tr><tr><td>Train loss</td><td>█▅▃▃▂▂▂▂▂▂▂▂▂▂▂▂▁▁▁▁▁▁▁▁▁▁▁▁▁▁▁▁▁▁▁▁▁▁▁▁</td></tr><tr><td>Validation Loss</td><td>█▆▆▃▂▂▂▂▂▁▁▁▁▁▁▁▁▁▁▁▁▁▁▁▁▁▁▁▁▁▁▁▁▁▁▁▁▁▁▁</td></tr></table><br/></div><div class=\"wandb-col\"><h3>Run summary:</h3><br/><table class=\"wandb\"><tr><td>Epoch</td><td>100</td></tr><tr><td>Train loss</td><td>0.00228</td></tr><tr><td>Validation Loss</td><td>0.00257</td></tr></table><br/></div></div>"
            ]
          },
          "metadata": {}
        },
        {
          "output_type": "display_data",
          "data": {
            "text/plain": [
              "<IPython.core.display.HTML object>"
            ],
            "text/html": [
              " View run <strong style=\"color:#cdcd00\">young-fire-84</strong> at: <a href='https://wandb.ai/vcadillo/House/runs/wiwe32fn' target=\"_blank\">https://wandb.ai/vcadillo/House/runs/wiwe32fn</a><br/>Synced 5 W&B file(s), 0 media file(s), 0 artifact file(s) and 0 other file(s)"
            ]
          },
          "metadata": {}
        },
        {
          "output_type": "display_data",
          "data": {
            "text/plain": [
              "<IPython.core.display.HTML object>"
            ],
            "text/html": [
              "Find logs at: <code>./wandb/run-20230319_013246-wiwe32fn/logs</code>"
            ]
          },
          "metadata": {}
        },
        {
          "output_type": "display_data",
          "data": {
            "text/plain": [
              "<IPython.core.display.HTML object>"
            ],
            "text/html": [
              "Successfully finished last run (ID:wiwe32fn). Initializing new run:<br/>"
            ]
          },
          "metadata": {}
        },
        {
          "output_type": "display_data",
          "data": {
            "text/plain": [
              "<IPython.core.display.HTML object>"
            ],
            "text/html": [
              "Tracking run with wandb version 0.14.0"
            ]
          },
          "metadata": {}
        },
        {
          "output_type": "display_data",
          "data": {
            "text/plain": [
              "<IPython.core.display.HTML object>"
            ],
            "text/html": [
              "Run data is saved locally in <code>/content/wandb/run-20230319_021653-6ct6u5ml</code>"
            ]
          },
          "metadata": {}
        },
        {
          "output_type": "display_data",
          "data": {
            "text/plain": [
              "<IPython.core.display.HTML object>"
            ],
            "text/html": [
              "Syncing run <strong><a href='https://wandb.ai/vcadillo/House/runs/6ct6u5ml' target=\"_blank\">devoted-shape-85</a></strong> to <a href='https://wandb.ai/vcadillo/House' target=\"_blank\">Weights & Biases</a> (<a href='https://wandb.me/run' target=\"_blank\">docs</a>)<br/>"
            ]
          },
          "metadata": {}
        },
        {
          "output_type": "display_data",
          "data": {
            "text/plain": [
              "<IPython.core.display.HTML object>"
            ],
            "text/html": [
              " View project at <a href='https://wandb.ai/vcadillo/House' target=\"_blank\">https://wandb.ai/vcadillo/House</a>"
            ]
          },
          "metadata": {}
        },
        {
          "output_type": "display_data",
          "data": {
            "text/plain": [
              "<IPython.core.display.HTML object>"
            ],
            "text/html": [
              " View run at <a href='https://wandb.ai/vcadillo/House/runs/6ct6u5ml' target=\"_blank\">https://wandb.ai/vcadillo/House/runs/6ct6u5ml</a>"
            ]
          },
          "metadata": {}
        },
        {
          "output_type": "stream",
          "name": "stdout",
          "text": [
            "Epoch 1: train_loss=0.2160, val_loss=0.0299\n",
            "Epoch 2: train_loss=0.2150, val_loss=0.0248\n",
            "Epoch 3: train_loss=0.1864, val_loss=0.0307\n",
            "Epoch 4: train_loss=0.1553, val_loss=0.0338\n",
            "Epoch 5: train_loss=0.1589, val_loss=0.0336\n",
            "Epoch 6: train_loss=0.1212, val_loss=0.0404\n",
            "Epoch 7: train_loss=0.1157, val_loss=0.0538\n",
            "Epoch 8: train_loss=0.1075, val_loss=0.0490\n",
            "Epoch 9: train_loss=0.0993, val_loss=0.0511\n",
            "Epoch 10: train_loss=0.0927, val_loss=0.0496\n",
            "Epoch 11: train_loss=0.0866, val_loss=0.0419\n",
            "Epoch 12: train_loss=0.0872, val_loss=0.0346\n",
            "Epoch 13: train_loss=0.0769, val_loss=0.0323\n",
            "Epoch 14: train_loss=0.0725, val_loss=0.0285\n",
            "Epoch 15: train_loss=0.0708, val_loss=0.0297\n",
            "Epoch 16: train_loss=0.0644, val_loss=0.0267\n",
            "Epoch 17: train_loss=0.0640, val_loss=0.0288\n",
            "Epoch 18: train_loss=0.0590, val_loss=0.0253\n",
            "Epoch 19: train_loss=0.0516, val_loss=0.0238\n",
            "Epoch 20: train_loss=0.0549, val_loss=0.0192\n",
            "Epoch 21: train_loss=0.0370, val_loss=0.0147\n",
            "Epoch 22: train_loss=0.0457, val_loss=0.0135\n",
            "Epoch 23: train_loss=0.0399, val_loss=0.0131\n",
            "Epoch 24: train_loss=0.0373, val_loss=0.0111\n",
            "Epoch 25: train_loss=0.0393, val_loss=0.0094\n",
            "Epoch 26: train_loss=0.0440, val_loss=0.0105\n",
            "Epoch 27: train_loss=0.0397, val_loss=0.0112\n",
            "Epoch 28: train_loss=0.0297, val_loss=0.0108\n",
            "Epoch 29: train_loss=0.0490, val_loss=0.0092\n",
            "Epoch 30: train_loss=0.0414, val_loss=0.0092\n",
            "Epoch 31: train_loss=0.0333, val_loss=0.0093\n",
            "Epoch 32: train_loss=0.0325, val_loss=0.0101\n",
            "Epoch 33: train_loss=0.0271, val_loss=0.0087\n",
            "Epoch 34: train_loss=0.0418, val_loss=0.0082\n",
            "Epoch 35: train_loss=0.0264, val_loss=0.0083\n",
            "Epoch 36: train_loss=0.0283, val_loss=0.0083\n",
            "Epoch 37: train_loss=0.0208, val_loss=0.0075\n",
            "Epoch 38: train_loss=0.0328, val_loss=0.0069\n",
            "Epoch 39: train_loss=0.0298, val_loss=0.0072\n",
            "Epoch 40: train_loss=0.0336, val_loss=0.0079\n",
            "Epoch 41: train_loss=0.0284, val_loss=0.0071\n",
            "Epoch 42: train_loss=0.0286, val_loss=0.0066\n",
            "Epoch 43: train_loss=0.0267, val_loss=0.0072\n",
            "Epoch 44: train_loss=0.0305, val_loss=0.0069\n",
            "Epoch 45: train_loss=0.0328, val_loss=0.0072\n",
            "Epoch 46: train_loss=0.0295, val_loss=0.0062\n",
            "Epoch 47: train_loss=0.0261, val_loss=0.0060\n",
            "Epoch 48: train_loss=0.0328, val_loss=0.0065\n",
            "Epoch 49: train_loss=0.0199, val_loss=0.0064\n",
            "Epoch 50: train_loss=0.0316, val_loss=0.0065\n",
            "Epoch 51: train_loss=0.0249, val_loss=0.0056\n",
            "Epoch 52: train_loss=0.0186, val_loss=0.0050\n",
            "Epoch 53: train_loss=0.0212, val_loss=0.0049\n",
            "Epoch 54: train_loss=0.0175, val_loss=0.0051\n",
            "Epoch 55: train_loss=0.0201, val_loss=0.0047\n",
            "Epoch 56: train_loss=0.0282, val_loss=0.0043\n",
            "Epoch 57: train_loss=0.0213, val_loss=0.0053\n",
            "Epoch 58: train_loss=0.0161, val_loss=0.0056\n",
            "Epoch 59: train_loss=0.0168, val_loss=0.0056\n",
            "Epoch 60: train_loss=0.0184, val_loss=0.0051\n",
            "Epoch 61: train_loss=0.0324, val_loss=0.0049\n",
            "Epoch 62: train_loss=0.0168, val_loss=0.0051\n",
            "Epoch 63: train_loss=0.0173, val_loss=0.0049\n",
            "Epoch 64: train_loss=0.0237, val_loss=0.0052\n",
            "Epoch 65: train_loss=0.0179, val_loss=0.0052\n",
            "Epoch 66: train_loss=0.0179, val_loss=0.0045\n",
            "Epoch 67: train_loss=0.0178, val_loss=0.0051\n",
            "Epoch 68: train_loss=0.0272, val_loss=0.0055\n",
            "Epoch 69: train_loss=0.0197, val_loss=0.0054\n",
            "Epoch 70: train_loss=0.0245, val_loss=0.0050\n",
            "Epoch 71: train_loss=0.0140, val_loss=0.0052\n",
            "Epoch 72: train_loss=0.0193, val_loss=0.0053\n",
            "Epoch 73: train_loss=0.0177, val_loss=0.0051\n",
            "Epoch 74: train_loss=0.0124, val_loss=0.0050\n",
            "Epoch 75: train_loss=0.0222, val_loss=0.0048\n",
            "Epoch 76: train_loss=0.0203, val_loss=0.0048\n",
            "Epoch 77: train_loss=0.0158, val_loss=0.0043\n",
            "Epoch 78: train_loss=0.0160, val_loss=0.0045\n",
            "Epoch 79: train_loss=0.0136, val_loss=0.0048\n",
            "Epoch 80: train_loss=0.0170, val_loss=0.0051\n",
            "Epoch 81: train_loss=0.0201, val_loss=0.0043\n",
            "Epoch 82: train_loss=0.0126, val_loss=0.0042\n",
            "Epoch 83: train_loss=0.0131, val_loss=0.0045\n",
            "Epoch 84: train_loss=0.0118, val_loss=0.0048\n",
            "Epoch 85: train_loss=0.0231, val_loss=0.0053\n",
            "Epoch 86: train_loss=0.0149, val_loss=0.0056\n",
            "Epoch 87: train_loss=0.0150, val_loss=0.0055\n",
            "Epoch 88: train_loss=0.0186, val_loss=0.0045\n",
            "Epoch 89: train_loss=0.0112, val_loss=0.0051\n",
            "Epoch 90: train_loss=0.0213, val_loss=0.0044\n",
            "Epoch 91: train_loss=0.0153, val_loss=0.0040\n",
            "Epoch 92: train_loss=0.0114, val_loss=0.0040\n",
            "Epoch 93: train_loss=0.0175, val_loss=0.0042\n",
            "Epoch 94: train_loss=0.0161, val_loss=0.0045\n",
            "Epoch 95: train_loss=0.0102, val_loss=0.0049\n",
            "Epoch 96: train_loss=0.0159, val_loss=0.0042\n",
            "Epoch 97: train_loss=0.0126, val_loss=0.0043\n",
            "Epoch 98: train_loss=0.0134, val_loss=0.0046\n",
            "Epoch 99: train_loss=0.0203, val_loss=0.0047\n",
            "Epoch 100: train_loss=0.0208, val_loss=0.0042\n"
          ]
        }
      ]
    },
    {
      "cell_type": "code",
      "source": [
        "# ENSEMBLE NETWORK NO KFOLD\n",
        "run('ensemble', X,y, num_epochs = 100, batch_size = 64, num_folds = 0)"
      ],
      "metadata": {
        "id": "3fOuE2FTUStD",
        "colab": {
          "base_uri": "https://localhost:8080/",
          "height": 1000,
          "referenced_widgets": [
            "77c95209a34a4a60908f241616d6072b",
            "496c7db3f3c0430a934b987247503a59",
            "73429b9f1c3f41818ed0da3cc713314f",
            "5aac720b16d143d090b0b9eed3c7d954",
            "ab0575b899ac4e039cd2072cc353bee9",
            "c3c7439042a74733a6c55f82632b1fc8",
            "21bce5f89285483ebe9cc854c0010fbe",
            "a6aa42a37f3d42a38b5c5c88b185bdfc",
            "9e2c8ff6f7e342e496fe6bf5f74df23c",
            "b4bc88f8ac1d434f93600cb77349231a",
            "bffe6e1c468a4ebcb378577a3fab382f"
          ]
        },
        "outputId": "6d2a58ab-1c14-49fc-ef99-03a70057c525"
      },
      "execution_count": null,
      "outputs": [
        {
          "output_type": "display_data",
          "data": {
            "text/plain": [
              "<IPython.core.display.HTML object>"
            ],
            "text/html": [
              "Finishing last run (ID:l7o9sxdm) before initializing another..."
            ]
          },
          "metadata": {}
        },
        {
          "output_type": "display_data",
          "data": {
            "text/plain": [
              "<IPython.core.display.HTML object>"
            ],
            "text/html": [
              "Waiting for W&B process to finish... <strong style=\"color:green\">(success).</strong>"
            ]
          },
          "metadata": {}
        },
        {
          "output_type": "display_data",
          "data": {
            "text/plain": [
              "<IPython.core.display.HTML object>"
            ],
            "text/html": [
              "<style>\n",
              "    table.wandb td:nth-child(1) { padding: 0 10px; text-align: left ; width: auto;} td:nth-child(2) {text-align: left ; width: 100%}\n",
              "    .wandb-row { display: flex; flex-direction: row; flex-wrap: wrap; justify-content: flex-start; width: 100% }\n",
              "    .wandb-col { display: flex; flex-direction: column; flex-basis: 100%; flex: 1; padding: 10px; }\n",
              "    </style>\n",
              "<div class=\"wandb-row\"><div class=\"wandb-col\"><h3>Run history:</h3><br/><table class=\"wandb\"><tr><td>Epoch</td><td>▁▁▁▁▂▂▂▂▂▃▃▃▃▃▃▄▄▄▄▄▅▅▅▅▅▅▆▆▆▆▆▇▇▇▇▇▇███</td></tr><tr><td>Train loss</td><td>█▅▄▃▄▃▃▃▃▃▃▃▂▂▂▂▂▂▂▂▂▂▂▂▂▂▂▁▁▁▁▁▁▁▁▁▁▁▁▁</td></tr><tr><td>Validation Loss</td><td>▆██▅▄▄▂▃▂▂▂▂▂▁▂▂▁▁▂▁▂▂▂▁▁▁▁▁▁▁▁▁▁▁▁▁▁▁▁▁</td></tr></table><br/></div><div class=\"wandb-col\"><h3>Run summary:</h3><br/><table class=\"wandb\"><tr><td>Epoch</td><td>100</td></tr><tr><td>Train loss</td><td>0.01988</td></tr><tr><td>Validation Loss</td><td>0.00486</td></tr></table><br/></div></div>"
            ]
          },
          "metadata": {}
        },
        {
          "output_type": "display_data",
          "data": {
            "text/plain": [
              "<IPython.core.display.HTML object>"
            ],
            "text/html": [
              " View run <strong style=\"color:#cdcd00\">fiery-lake-83</strong> at: <a href='https://wandb.ai/vcadillo/House/runs/l7o9sxdm' target=\"_blank\">https://wandb.ai/vcadillo/House/runs/l7o9sxdm</a><br/>Synced 5 W&B file(s), 0 media file(s), 0 artifact file(s) and 0 other file(s)"
            ]
          },
          "metadata": {}
        },
        {
          "output_type": "display_data",
          "data": {
            "text/plain": [
              "<IPython.core.display.HTML object>"
            ],
            "text/html": [
              "Find logs at: <code>./wandb/run-20230319_013214-l7o9sxdm/logs</code>"
            ]
          },
          "metadata": {}
        },
        {
          "output_type": "display_data",
          "data": {
            "text/plain": [
              "<IPython.core.display.HTML object>"
            ],
            "text/html": [
              "Successfully finished last run (ID:l7o9sxdm). Initializing new run:<br/>"
            ]
          },
          "metadata": {}
        },
        {
          "output_type": "display_data",
          "data": {
            "text/plain": [
              "<IPython.core.display.HTML object>"
            ],
            "text/html": [
              "Tracking run with wandb version 0.14.0"
            ]
          },
          "metadata": {}
        },
        {
          "output_type": "display_data",
          "data": {
            "text/plain": [
              "<IPython.core.display.HTML object>"
            ],
            "text/html": [
              "Run data is saved locally in <code>/content/wandb/run-20230319_013246-wiwe32fn</code>"
            ]
          },
          "metadata": {}
        },
        {
          "output_type": "display_data",
          "data": {
            "text/plain": [
              "<IPython.core.display.HTML object>"
            ],
            "text/html": [
              "Syncing run <strong><a href='https://wandb.ai/vcadillo/House/runs/wiwe32fn' target=\"_blank\">young-fire-84</a></strong> to <a href='https://wandb.ai/vcadillo/House' target=\"_blank\">Weights & Biases</a> (<a href='https://wandb.me/run' target=\"_blank\">docs</a>)<br/>"
            ]
          },
          "metadata": {}
        },
        {
          "output_type": "display_data",
          "data": {
            "text/plain": [
              "<IPython.core.display.HTML object>"
            ],
            "text/html": [
              " View project at <a href='https://wandb.ai/vcadillo/House' target=\"_blank\">https://wandb.ai/vcadillo/House</a>"
            ]
          },
          "metadata": {}
        },
        {
          "output_type": "display_data",
          "data": {
            "text/plain": [
              "<IPython.core.display.HTML object>"
            ],
            "text/html": [
              " View run at <a href='https://wandb.ai/vcadillo/House/runs/wiwe32fn' target=\"_blank\">https://wandb.ai/vcadillo/House/runs/wiwe32fn</a>"
            ]
          },
          "metadata": {}
        },
        {
          "output_type": "stream",
          "name": "stderr",
          "text": [
            "/usr/local/lib/python3.9/dist-packages/torchvision/models/_utils.py:208: UserWarning: The parameter 'pretrained' is deprecated since 0.13 and may be removed in the future, please use 'weights' instead.\n",
            "  warnings.warn(\n",
            "/usr/local/lib/python3.9/dist-packages/torchvision/models/_utils.py:223: UserWarning: Arguments other than a weight enum or `None` for 'weights' are deprecated since 0.13 and may be removed in the future. The current behavior is equivalent to passing `weights=EfficientNet_V2_S_Weights.IMAGENET1K_V1`. You can also use `weights=EfficientNet_V2_S_Weights.DEFAULT` to get the most up-to-date weights.\n",
            "  warnings.warn(msg)\n",
            "Downloading: \"https://download.pytorch.org/models/efficientnet_v2_s-dd5fe13b.pth\" to /root/.cache/torch/hub/checkpoints/efficientnet_v2_s-dd5fe13b.pth\n"
          ]
        },
        {
          "output_type": "display_data",
          "data": {
            "text/plain": [
              "  0%|          | 0.00/82.7M [00:00<?, ?B/s]"
            ],
            "application/vnd.jupyter.widget-view+json": {
              "version_major": 2,
              "version_minor": 0,
              "model_id": "77c95209a34a4a60908f241616d6072b"
            }
          },
          "metadata": {}
        },
        {
          "output_type": "stream",
          "name": "stdout",
          "text": [
            "Epoch 1: train_loss=0.0905, val_loss=0.0194\n",
            "Epoch 2: train_loss=0.0675, val_loss=0.0178\n",
            "Epoch 3: train_loss=0.0506, val_loss=0.0147\n",
            "Epoch 4: train_loss=0.0449, val_loss=0.0138\n",
            "Epoch 5: train_loss=0.0297, val_loss=0.0175\n",
            "Epoch 6: train_loss=0.0244, val_loss=0.0156\n",
            "Epoch 7: train_loss=0.0267, val_loss=0.0074\n",
            "Epoch 8: train_loss=0.0241, val_loss=0.0066\n",
            "Epoch 9: train_loss=0.0204, val_loss=0.0057\n",
            "Epoch 10: train_loss=0.0196, val_loss=0.0046\n",
            "Epoch 11: train_loss=0.0152, val_loss=0.0037\n",
            "Epoch 12: train_loss=0.0216, val_loss=0.0043\n",
            "Epoch 13: train_loss=0.0156, val_loss=0.0040\n",
            "Epoch 14: train_loss=0.0155, val_loss=0.0052\n",
            "Epoch 15: train_loss=0.0185, val_loss=0.0038\n",
            "Epoch 16: train_loss=0.0165, val_loss=0.0048\n",
            "Epoch 17: train_loss=0.0152, val_loss=0.0037\n",
            "Epoch 18: train_loss=0.0147, val_loss=0.0039\n",
            "Epoch 19: train_loss=0.0137, val_loss=0.0031\n",
            "Epoch 20: train_loss=0.0120, val_loss=0.0050\n",
            "Epoch 21: train_loss=0.0133, val_loss=0.0037\n",
            "Epoch 22: train_loss=0.0112, val_loss=0.0038\n",
            "Epoch 23: train_loss=0.0128, val_loss=0.0033\n",
            "Epoch 24: train_loss=0.0124, val_loss=0.0039\n",
            "Epoch 25: train_loss=0.0117, val_loss=0.0030\n",
            "Epoch 26: train_loss=0.0121, val_loss=0.0027\n",
            "Epoch 27: train_loss=0.0109, val_loss=0.0037\n",
            "Epoch 28: train_loss=0.0095, val_loss=0.0032\n",
            "Epoch 29: train_loss=0.0113, val_loss=0.0029\n",
            "Epoch 30: train_loss=0.0114, val_loss=0.0053\n",
            "Epoch 31: train_loss=0.0103, val_loss=0.0033\n",
            "Epoch 32: train_loss=0.0100, val_loss=0.0030\n",
            "Epoch 33: train_loss=0.0094, val_loss=0.0025\n",
            "Epoch 34: train_loss=0.0096, val_loss=0.0029\n",
            "Epoch 35: train_loss=0.0094, val_loss=0.0027\n",
            "Epoch 36: train_loss=0.0089, val_loss=0.0029\n",
            "Epoch 37: train_loss=0.0076, val_loss=0.0039\n",
            "Epoch 38: train_loss=0.0084, val_loss=0.0031\n",
            "Epoch 39: train_loss=0.0109, val_loss=0.0029\n",
            "Epoch 40: train_loss=0.0081, val_loss=0.0034\n",
            "Epoch 41: train_loss=0.0075, val_loss=0.0030\n",
            "Epoch 42: train_loss=0.0063, val_loss=0.0029\n",
            "Epoch 43: train_loss=0.0098, val_loss=0.0030\n",
            "Epoch 44: train_loss=0.0070, val_loss=0.0030\n",
            "Epoch 45: train_loss=0.0071, val_loss=0.0036\n",
            "Epoch 46: train_loss=0.0072, val_loss=0.0031\n",
            "Epoch 47: train_loss=0.0070, val_loss=0.0028\n",
            "Epoch 48: train_loss=0.0054, val_loss=0.0031\n",
            "Epoch 49: train_loss=0.0066, val_loss=0.0026\n",
            "Epoch 50: train_loss=0.0065, val_loss=0.0025\n",
            "Epoch 51: train_loss=0.0071, val_loss=0.0035\n",
            "Epoch 52: train_loss=0.0064, val_loss=0.0028\n",
            "Epoch 53: train_loss=0.0060, val_loss=0.0035\n",
            "Epoch 54: train_loss=0.0054, val_loss=0.0026\n",
            "Epoch 55: train_loss=0.0059, val_loss=0.0041\n",
            "Epoch 56: train_loss=0.0056, val_loss=0.0033\n",
            "Epoch 57: train_loss=0.0061, val_loss=0.0039\n",
            "Epoch 58: train_loss=0.0060, val_loss=0.0044\n",
            "Epoch 59: train_loss=0.0048, val_loss=0.0034\n",
            "Epoch 60: train_loss=0.0058, val_loss=0.0024\n",
            "Epoch 61: train_loss=0.0048, val_loss=0.0033\n",
            "Epoch 62: train_loss=0.0054, val_loss=0.0032\n",
            "Epoch 63: train_loss=0.0045, val_loss=0.0029\n",
            "Epoch 64: train_loss=0.0060, val_loss=0.0028\n",
            "Epoch 65: train_loss=0.0050, val_loss=0.0039\n",
            "Epoch 66: train_loss=0.0043, val_loss=0.0029\n",
            "Epoch 67: train_loss=0.0037, val_loss=0.0026\n",
            "Epoch 68: train_loss=0.0044, val_loss=0.0028\n",
            "Epoch 69: train_loss=0.0044, val_loss=0.0030\n",
            "Epoch 70: train_loss=0.0044, val_loss=0.0029\n",
            "Epoch 71: train_loss=0.0049, val_loss=0.0027\n",
            "Epoch 72: train_loss=0.0041, val_loss=0.0025\n",
            "Epoch 73: train_loss=0.0036, val_loss=0.0025\n",
            "Epoch 74: train_loss=0.0046, val_loss=0.0026\n",
            "Epoch 75: train_loss=0.0038, val_loss=0.0027\n",
            "Epoch 76: train_loss=0.0035, val_loss=0.0029\n",
            "Epoch 77: train_loss=0.0034, val_loss=0.0027\n",
            "Epoch 78: train_loss=0.0041, val_loss=0.0030\n",
            "Epoch 79: train_loss=0.0034, val_loss=0.0026\n",
            "Epoch 80: train_loss=0.0035, val_loss=0.0033\n",
            "Epoch 81: train_loss=0.0041, val_loss=0.0024\n",
            "Epoch 82: train_loss=0.0030, val_loss=0.0027\n",
            "Epoch 83: train_loss=0.0039, val_loss=0.0024\n",
            "Epoch 84: train_loss=0.0037, val_loss=0.0033\n",
            "Epoch 85: train_loss=0.0032, val_loss=0.0036\n",
            "Epoch 86: train_loss=0.0030, val_loss=0.0035\n",
            "Epoch 87: train_loss=0.0029, val_loss=0.0024\n",
            "Epoch 88: train_loss=0.0029, val_loss=0.0026\n",
            "Epoch 89: train_loss=0.0034, val_loss=0.0031\n",
            "Epoch 90: train_loss=0.0024, val_loss=0.0025\n",
            "Epoch 91: train_loss=0.0026, val_loss=0.0024\n",
            "Epoch 92: train_loss=0.0030, val_loss=0.0024\n",
            "Epoch 93: train_loss=0.0025, val_loss=0.0025\n",
            "Epoch 94: train_loss=0.0026, val_loss=0.0025\n",
            "Epoch 95: train_loss=0.0031, val_loss=0.0027\n",
            "Epoch 96: train_loss=0.0029, val_loss=0.0040\n",
            "Epoch 97: train_loss=0.0023, val_loss=0.0024\n",
            "Epoch 98: train_loss=0.0023, val_loss=0.0025\n",
            "Epoch 99: train_loss=0.0025, val_loss=0.0030\n",
            "Epoch 100: train_loss=0.0023, val_loss=0.0026\n"
          ]
        }
      ]
    }
  ]
}